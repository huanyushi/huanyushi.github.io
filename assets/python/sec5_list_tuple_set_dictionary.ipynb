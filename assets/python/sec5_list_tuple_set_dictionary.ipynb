{
 "cells": [
  {
   "cell_type": "markdown",
   "metadata": {},
   "source": [
    "# 5. 列表、元组、集合和字典"
   ]
  },
  {
   "cell_type": "markdown",
   "metadata": {
    "heading_collapsed": true
   },
   "source": [
    "## 5.1 List 列表\n",
    "Python 支持多种**复合**数据类型，可以将不同元素组合在一起，最常见的是**列表**，用方括号标注，逗号分隔的一组值。注意列表可以包含不同类型的元素，但一般情况下，各个元素的类型是相同的。\n",
    "\n",
    "使用列表的好处在于，所需的数据放在一个结构中，程序能够更灵活的处理数据，比放在一些重复的变量中方便。"
   ]
  },
  {
   "cell_type": "markdown",
   "metadata": {
    "heading_collapsed": true,
    "hidden": true
   },
   "source": [
    "### 5.1.1 列表的基本操作\n",
    "\n",
    "列表的创建"
   ]
  },
  {
   "cell_type": "code",
   "execution_count": 1,
   "metadata": {
    "hidden": true
   },
   "outputs": [
    {
     "name": "stdout",
     "output_type": "stream",
     "text": [
      "[1, 4, 9, 16, 25]\n"
     ]
    }
   ],
   "source": [
    "test_list = [1,4,9,16,25]\n",
    "print(test_list)"
   ]
  },
  {
   "cell_type": "code",
   "execution_count": 2,
   "metadata": {},
   "outputs": [
    {
     "name": "stdout",
     "output_type": "stream",
     "text": [
      "['a', 'b', 1, 2.0, True]\n"
     ]
    }
   ],
   "source": [
    "test_list = ['a','b',1, 2.0, True]\n",
    "print(test_list)"
   ]
  },
  {
   "cell_type": "markdown",
   "metadata": {
    "hidden": true
   },
   "source": [
    "列表支持索引和切片（规则和字符串的索引切片是一样的，一定要记得列表的索引是从 0 开始的）。\n",
    "\n",
    "通过 `+` 和 `*` 还可以支持合并与重复的操作。"
   ]
  },
  {
   "cell_type": "code",
   "execution_count": 3,
   "metadata": {
    "hidden": true
   },
   "outputs": [
    {
     "name": "stdout",
     "output_type": "stream",
     "text": [
      "b\n",
      "True\n",
      "[1, 2.0, True]\n",
      "[True, 2.0, 1, 'b', 'a']\n",
      "['a', 'b', 1, '你好', '我好', '大家好']\n",
      "['a', 'b', 1, 2.0, True, 'a', 'b', 1, 2.0, True]\n"
     ]
    }
   ],
   "source": [
    "test_list = ['a','b',1, 2.0, True]\n",
    "print(test_list[1])\n",
    "print(test_list[-1])\n",
    "print(test_list[2:5])\n",
    "print(test_list[-1::-1])\n",
    "\n",
    "print(test_list[0:3] + ['你好','我好','大家好'])\n",
    "print(test_list*2)"
   ]
  },
  {
   "cell_type": "markdown",
   "metadata": {
    "hidden": true
   },
   "source": [
    "和字符串不同的是，列表是可以更改替换的。"
   ]
  },
  {
   "cell_type": "code",
   "execution_count": 1,
   "metadata": {
    "hidden": true
   },
   "outputs": [
    {
     "ename": "TypeError",
     "evalue": "'str' object does not support item assignment",
     "output_type": "error",
     "traceback": [
      "\u001b[1;31m---------------------------------------------------------------------------\u001b[0m",
      "\u001b[1;31mTypeError\u001b[0m                                 Traceback (most recent call last)",
      "Cell \u001b[1;32mIn[1], line 2\u001b[0m\n\u001b[0;32m      1\u001b[0m a \u001b[38;5;241m=\u001b[39m \u001b[38;5;124m'\u001b[39m\u001b[38;5;124mstring\u001b[39m\u001b[38;5;124m'\u001b[39m\n\u001b[1;32m----> 2\u001b[0m a[\u001b[38;5;241m3\u001b[39m] \u001b[38;5;241m=\u001b[39m \u001b[38;5;124m'\u001b[39m\u001b[38;5;124mI\u001b[39m\u001b[38;5;124m'\u001b[39m\n",
      "\u001b[1;31mTypeError\u001b[0m: 'str' object does not support item assignment"
     ]
    }
   ],
   "source": [
    "# 字符串不可以被替换\n",
    "a = 'string'\n",
    "a[3] = 'I'"
   ]
  },
  {
   "cell_type": "code",
   "execution_count": 10,
   "metadata": {
    "hidden": true
   },
   "outputs": [
    {
     "name": "stdout",
     "output_type": "stream",
     "text": [
      "['s', 't', 'r', 'I', 'n', 'g']\n",
      "['s', 't', 'r']\n",
      "3\n"
     ]
    }
   ],
   "source": [
    "# 列表可以被替换\n",
    "a = ['s','t','r','i','n','g']\n",
    "a[3] = 'I'\n",
    "print(a)\n",
    "\n",
    "a[3:] = []\n",
    "print(a)\n",
    "\n",
    "print(len(a))"
   ]
  },
  {
   "cell_type": "markdown",
   "metadata": {
    "hidden": true
   },
   "source": [
    "列表还可以进行嵌套操作（创建包含其他列表的列表）"
   ]
  },
  {
   "cell_type": "code",
   "execution_count": 5,
   "metadata": {
    "hidden": true
   },
   "outputs": [
    {
     "name": "stdout",
     "output_type": "stream",
     "text": [
      "['a', 'b', 'c', 'd']\n",
      "[['a', 'b', 'c'], [1, 2, 3]]\n",
      "['a', 'b', 'c']\n",
      "c\n"
     ]
    }
   ],
   "source": [
    "# 嵌套列表\n",
    "list1 = ['a','b','c']\n",
    "list2 = [1,2,3]\n",
    "list3 = [list1,list2]\n",
    "\n",
    "print (list1 + ['d'])\n",
    "print(list3)\n",
    "print(list3[0])\n",
    "print(list3[0][2])"
   ]
  },
  {
   "cell_type": "markdown",
   "metadata": {
    "hidden": true
   },
   "source": [
    "通过 `append` 方法可以在列表末尾添加新条目（更多方法在后续介绍）。\n",
    "\n",
    "注意这将直接改变原变量的值。"
   ]
  },
  {
   "cell_type": "code",
   "execution_count": 19,
   "metadata": {
    "hidden": true
   },
   "outputs": [
    {
     "name": "stdout",
     "output_type": "stream",
     "text": [
      "['a', 'b', 'c', 'd']\n"
     ]
    }
   ],
   "source": [
    "letter = ['a','b','c']\n",
    "\n",
    "letter.append('d')\n",
    "print(letter)"
   ]
  },
  {
   "cell_type": "code",
   "execution_count": 21,
   "metadata": {
    "hidden": true
   },
   "outputs": [
    {
     "name": "stdout",
     "output_type": "stream",
     "text": [
      "['b', 'c', 'd']\n"
     ]
    },
    {
     "ename": "NameError",
     "evalue": "name 'letter' is not defined",
     "output_type": "error",
     "traceback": [
      "\u001b[1;31m---------------------------------------------------------------------------\u001b[0m",
      "\u001b[1;31mNameError\u001b[0m                                 Traceback (most recent call last)",
      "Cell \u001b[1;32mIn[21], line 7\u001b[0m\n\u001b[0;32m      4\u001b[0m \u001b[38;5;28mprint\u001b[39m(letter)\n\u001b[0;32m      6\u001b[0m \u001b[38;5;28;01mdel\u001b[39;00m letter \u001b[38;5;66;03m# del 可以删除变量的赋值\u001b[39;00m\n\u001b[1;32m----> 7\u001b[0m \u001b[38;5;28mprint\u001b[39m(letter)\n",
      "\u001b[1;31mNameError\u001b[0m: name 'letter' is not defined"
     ]
    }
   ],
   "source": [
    "letter = ['a','b','c','d']\n",
    "\n",
    "del letter[0] # del 可以删除列表中的某些值\n",
    "print(letter)\n",
    "\n",
    "del letter # del 可以删除变量的赋值\n",
    "print(letter)"
   ]
  },
  {
   "cell_type": "markdown",
   "metadata": {
    "hidden": true
   },
   "source": [
    "利用 `in` 和 `not in` 操作符，可以确定一个元素是否在列表中。"
   ]
  },
  {
   "cell_type": "code",
   "execution_count": 1,
   "metadata": {
    "hidden": true
   },
   "outputs": [
    {
     "name": "stdout",
     "output_type": "stream",
     "text": [
      "True\n",
      "False\n",
      "True\n"
     ]
    }
   ],
   "source": [
    "print('hello' in ['hello', 'hi', 'howdy', 'heyas'])\n",
    "print('cat' in ['hello','hi'])\n",
    "print('cat' not in ['hello','hi'])"
   ]
  },
  {
   "cell_type": "markdown",
   "metadata": {
    "hidden": true
   },
   "source": [
    "假设我们拥有一个列表，想要将列表中的元素为多个变量进行赋值，可以采用多重赋值技巧。"
   ]
  },
  {
   "cell_type": "code",
   "execution_count": 3,
   "metadata": {
    "hidden": true
   },
   "outputs": [
    {
     "name": "stdout",
     "output_type": "stream",
     "text": [
      "fat black loud\n"
     ]
    }
   ],
   "source": [
    "cat = ['fat', 'black', 'loud']\n",
    "size, color, disposition = cat\n",
    "\n",
    "print(size, color, disposition)"
   ]
  },
  {
   "cell_type": "markdown",
   "metadata": {
    "hidden": true
   },
   "source": [
    "有一点值得一提的是，变量引用在列表的情况下会变得尤为不同，具体请看以下两个例子。"
   ]
  },
  {
   "cell_type": "code",
   "execution_count": 4,
   "metadata": {
    "hidden": true
   },
   "outputs": [
    {
     "name": "stdout",
     "output_type": "stream",
     "text": [
      "100 42\n"
     ]
    }
   ],
   "source": [
    "spam = 42\n",
    "cheese = spam\n",
    "spam = 100\n",
    "\n",
    "print(spam,cheese)"
   ]
  },
  {
   "cell_type": "code",
   "execution_count": 7,
   "metadata": {
    "hidden": true
   },
   "outputs": [
    {
     "name": "stdout",
     "output_type": "stream",
     "text": [
      "[0, 'Hello!', 2, 3, 4, 5]\n",
      "[0, 'Hello!', 2, 3, 4, 5]\n"
     ]
    }
   ],
   "source": [
    "spam = [0, 1, 2, 3, 4, 5]\n",
    "cheese = spam\n",
    "cheese[1] = 'Hello!'\n",
    "\n",
    "print(spam)\n",
    "print(cheese)"
   ]
  },
  {
   "cell_type": "markdown",
   "metadata": {
    "hidden": true
   },
   "source": [
    "可以发现在变量引用数字的时候，我们将 spam 拷贝到 cheese 中，并改变 spam 的值，这没有影响到 cheese 中的值。这是因为 spam 和 cheese 是不同的变量，保存了不同的值。\n",
    "\n",
    "但对于列表来说情况则不同，将列表赋给一个变量时，实际上是将列表的**引用**赋给了该变量。当创建列表 `[0,1,2,3,4,5]` 时，我们将它的引用赋给了变量 `spam`。但下一行只是将 spam 中的列表引用拷贝到 cheese，而非列表值 `[0,1,2,3,4,5]`本身。这意味着存储在 spam 和 cheese 中的引用，现在指向了同一个列表。当我们修改 cheese 变量的第一个元素时，实际上也修改了 spam 指向的同一个列表。\n",
    "\n",
    "简单来说，我们赋给变量的不是列表值本身，而是一个引用，通过 `id()` 函数可以查看这些引用（它们是一些数字，Python 在内部使用这些 ID）。\n",
    "\n",
    "<div class=\"alert alert-block alert-info\"> <b>总结：</b> 在变量必须保存可变数据类型的值时，如列表或者字典，Python 就将引用赋给变量。对于不可变的数据类型的值，如字符串、数或元组，Python 就将值赋给变量。 </div>\n",
    "\n",
    "虽然 Python 变量在技术上包含了对列表或字典值的引用，但人们通常随意地说，该变量包含了列表或字典。"
   ]
  },
  {
   "cell_type": "markdown",
   "metadata": {
    "hidden": true
   },
   "source": [
    "在处理列表或字典这种可变数据类型时，虽然传递引用是最方便的方法，但它有时会导致令人困惑的缺陷。当使用函数或者方法修改了传入的列表或者字典，我们可能不希望这些变动影响原来的列表或者字典（比如通过 `.append()` 方法会直接改变原列表，但我们希望生成一个新的列表它的末尾增加了新的元素，且这种变动不影响原先的列表）。\n",
    "\n",
    "要实现这一点，我们可以使用 Python 内的 copy 模块，其中包含 `copy()` 和 `deepcopy()` 函数。`copy()` 函数可以用来复制列表或字典这样的可变数据类型，而不只是像我们上面提到的复制引用。\n",
    "\n",
    "如果要复制的列表中，它内部还包含了列表，就需要使用 `deepcopy()` 函数，它将同时复制它们内部的列表"
   ]
  },
  {
   "cell_type": "code",
   "execution_count": 9,
   "metadata": {
    "hidden": true
   },
   "outputs": [
    {
     "name": "stdout",
     "output_type": "stream",
     "text": [
      "['A', 'B', 'C', 'D']\n",
      "['A', 42, 'C', 'D']\n"
     ]
    }
   ],
   "source": [
    "# 列表的浅复制\n",
    "import copy\n",
    "spam = ['A', 'B', 'C', 'D']\n",
    "cheese = copy.copy(spam)\n",
    "cheese[1] = 42\n",
    "\n",
    "print(spam)\n",
    "print(cheese)"
   ]
  },
  {
   "cell_type": "code",
   "execution_count": 10,
   "metadata": {
    "hidden": true
   },
   "outputs": [
    {
     "name": "stdout",
     "output_type": "stream",
     "text": [
      "[['A', 'B'], [1, 2, 3]]\n",
      "[['A', 'C'], [1, 2, 3]]\n"
     ]
    }
   ],
   "source": [
    "# 嵌套列表的浅复制\n",
    "spam = [['A','B'],[1,2,3]]\n",
    "cheese = copy.deepcopy(spam)\n",
    "cheese[0][1] = 'C'\n",
    "\n",
    "print(spam)\n",
    "print(cheese)"
   ]
  },
  {
   "cell_type": "markdown",
   "metadata": {
    "heading_collapsed": true,
    "hidden": true
   },
   "source": [
    "### 5.1.2 列表的方法\n",
    "方法和函数其实是一回事，只是它是调用在一个值上。方法部分跟在这个值后面，用一个句号分隔。\n",
    "\n",
    "每种数据类型都有它自己的一组方法，方法只属于单个数据类型，比如不能在字符串类型里调用列表的方法。列表数据类型有一些有用的方法，用来查找、添加、删除或操作列表中的值。这里列举了一些常用的方法：\n",
    "\n",
    "- `index()` 方法在列表中查找值并返回它的索引\n",
    "- `append()` 和 `insert()` 方法在列表中添加值\n",
    "- `remove()` 方法从列表中删除指定值\n",
    "- `pop()` 方法从列表中删除指定位置的值\n",
    "- `sort()` 方法将列表中的值排序\n",
    "- `count()` 方法可以统计某个元素在列表中出现的次数\n",
    "- `reverse()` 方法可以将列表的元素进行反转\n",
    "- `clear()` 方法可以清空列表"
   ]
  },
  {
   "cell_type": "markdown",
   "metadata": {
    "hidden": true
   },
   "source": [
    "`index()` 方法可以在列表中查找值并返回它的索引，但如果它不在列表中，Python 程序就会报错。\n",
    "\n",
    "另外若列表存在重复的值，就只会返回它第一次出现的索引。"
   ]
  },
  {
   "cell_type": "code",
   "execution_count": 37,
   "metadata": {
    "hidden": true
   },
   "outputs": [
    {
     "name": "stdout",
     "output_type": "stream",
     "text": [
      "0\n",
      "3\n",
      "1\n"
     ]
    },
    {
     "ename": "ValueError",
     "evalue": "'no' is not in list",
     "output_type": "error",
     "traceback": [
      "\u001b[1;31m---------------------------------------------------------------------------\u001b[0m",
      "\u001b[1;31mValueError\u001b[0m                                Traceback (most recent call last)",
      "Cell \u001b[1;32mIn[37], line 11\u001b[0m\n\u001b[0;32m      8\u001b[0m spam \u001b[38;5;241m=\u001b[39m [\u001b[38;5;124m'\u001b[39m\u001b[38;5;124mZophie\u001b[39m\u001b[38;5;124m'\u001b[39m, \u001b[38;5;124m'\u001b[39m\u001b[38;5;124mPooka\u001b[39m\u001b[38;5;124m'\u001b[39m, \u001b[38;5;124m'\u001b[39m\u001b[38;5;124mFat-tail\u001b[39m\u001b[38;5;124m'\u001b[39m, \u001b[38;5;124m'\u001b[39m\u001b[38;5;124mPooka\u001b[39m\u001b[38;5;124m'\u001b[39m]\n\u001b[0;32m      9\u001b[0m \u001b[38;5;28mprint\u001b[39m(spam\u001b[38;5;241m.\u001b[39mindex(\u001b[38;5;124m'\u001b[39m\u001b[38;5;124mPooka\u001b[39m\u001b[38;5;124m'\u001b[39m))\n\u001b[1;32m---> 11\u001b[0m \u001b[38;5;28mprint\u001b[39m(spam\u001b[38;5;241m.\u001b[39mindex(\u001b[38;5;124m'\u001b[39m\u001b[38;5;124mno\u001b[39m\u001b[38;5;124m'\u001b[39m))\n",
      "\u001b[1;31mValueError\u001b[0m: 'no' is not in list"
     ]
    }
   ],
   "source": [
    "# index()方法\n",
    "\n",
    "spam = ['hello', 'hi', 'howdy', 'heyas']\n",
    "\n",
    "print(spam.index('hello'))\n",
    "print(spam.index('heyas'))\n",
    "\n",
    "spam = ['Zophie', 'Pooka', 'Fat-tail', 'Pooka']\n",
    "print(spam.index('Pooka'))\n",
    "\n",
    "print(spam.index('no'))"
   ]
  },
  {
   "cell_type": "markdown",
   "metadata": {
    "hidden": true
   },
   "source": [
    "`append()` 和 `insert()` 方法可以在列表中添加值，注意这两种方法都会直接改变原列表。\n",
    "\n",
    "其中 `append()` 方法将参数添加到列表末尾。而 `insert()` 方法可以在列表任意位置插入一个值，其中第一个参数是新值的索引，第二个参数是要插入的新值。"
   ]
  },
  {
   "cell_type": "code",
   "execution_count": 4,
   "metadata": {
    "hidden": true
   },
   "outputs": [
    {
     "name": "stdout",
     "output_type": "stream",
     "text": [
      "['cat', 'dog', 'bat', 'moose']\n",
      "['cat', 'chicken', 'dog', 'bat', 'moose']\n"
     ]
    }
   ],
   "source": [
    "# append() 和 insert() 方法\n",
    "\n",
    "spam = ['cat', 'dog', 'bat']\n",
    "spam.append('moose')\n",
    "print(spam)\n",
    "\n",
    "spam.insert(1,'chicken')\n",
    "print(spam)"
   ]
  },
  {
   "cell_type": "code",
   "execution_count": 2,
   "metadata": {
    "hidden": true
   },
   "outputs": [
    {
     "ename": "AttributeError",
     "evalue": "'str' object has no attribute 'append'",
     "output_type": "error",
     "traceback": [
      "\u001b[1;31m---------------------------------------------------------------------------\u001b[0m",
      "\u001b[1;31mAttributeError\u001b[0m                            Traceback (most recent call last)",
      "Cell \u001b[1;32mIn[2], line 2\u001b[0m\n\u001b[0;32m      1\u001b[0m eggs \u001b[38;5;241m=\u001b[39m \u001b[38;5;124m'\u001b[39m\u001b[38;5;124mHello\u001b[39m\u001b[38;5;124m'\u001b[39m\n\u001b[1;32m----> 2\u001b[0m eggs\u001b[38;5;241m.\u001b[39mappend(\u001b[38;5;124m'\u001b[39m\u001b[38;5;124mworld\u001b[39m\u001b[38;5;124m'\u001b[39m)\n",
      "\u001b[1;31mAttributeError\u001b[0m: 'str' object has no attribute 'append'"
     ]
    }
   ],
   "source": [
    "eggs = 'Hello'\n",
    "eggs.append('world')"
   ]
  },
  {
   "cell_type": "markdown",
   "metadata": {
    "hidden": true
   },
   "source": [
    "`remove()` 方法可以将值从列表中删除，它同样直接改变原列表。如果要删除的值在列表中出现多次，只有第一次出现的值会被删除。若删除列表中不存在的值，也会导致 Python 报错。"
   ]
  },
  {
   "cell_type": "code",
   "execution_count": 7,
   "metadata": {
    "hidden": true
   },
   "outputs": [
    {
     "name": "stdout",
     "output_type": "stream",
     "text": [
      "['cat', 'rat', 'elephant']\n"
     ]
    },
    {
     "ename": "ValueError",
     "evalue": "list.remove(x): x not in list",
     "output_type": "error",
     "traceback": [
      "\u001b[1;31m---------------------------------------------------------------------------\u001b[0m",
      "\u001b[1;31mValueError\u001b[0m                                Traceback (most recent call last)",
      "Cell \u001b[1;32mIn[7], line 7\u001b[0m\n\u001b[0;32m      4\u001b[0m spam\u001b[38;5;241m.\u001b[39mremove(\u001b[38;5;124m'\u001b[39m\u001b[38;5;124mbat\u001b[39m\u001b[38;5;124m'\u001b[39m)\n\u001b[0;32m      5\u001b[0m \u001b[38;5;28mprint\u001b[39m(spam)\n\u001b[1;32m----> 7\u001b[0m spam\u001b[38;5;241m.\u001b[39mremove(\u001b[38;5;124m'\u001b[39m\u001b[38;5;124mchicken\u001b[39m\u001b[38;5;124m'\u001b[39m)\n",
      "\u001b[1;31mValueError\u001b[0m: list.remove(x): x not in list"
     ]
    }
   ],
   "source": [
    "# remove() 方法\n",
    "\n",
    "spam = ['cat','bat', 'rat', 'elephant']\n",
    "spam.remove('bat')\n",
    "print(spam)\n",
    "\n",
    "spam.remove('chicken')"
   ]
  },
  {
   "cell_type": "code",
   "execution_count": 9,
   "metadata": {
    "hidden": true
   },
   "outputs": [
    {
     "name": "stdout",
     "output_type": "stream",
     "text": [
      "['bat', 'rat', 'hat', 'cat']\n"
     ]
    }
   ],
   "source": [
    "spam = ['cat','bat','rat','hat','cat']\n",
    "spam.remove('cat')\n",
    "\n",
    "print(spam)"
   ]
  },
  {
   "cell_type": "markdown",
   "metadata": {
    "hidden": true
   },
   "source": [
    "`pop()` 方法可以移除列表中指定位置的元素，这里要注意它的返回值不是 `None`，而是删除元素的值。当如果我们不写索引时，`pop()` 方法默认删除最后一个列表里的最后一个元素。"
   ]
  },
  {
   "cell_type": "code",
   "execution_count": 16,
   "metadata": {
    "hidden": true
   },
   "outputs": [
    {
     "name": "stdout",
     "output_type": "stream",
     "text": [
      "4\n",
      "[0, 1, 2, 3]\n",
      "[0, 1, 3]\n"
     ]
    }
   ],
   "source": [
    "spam = [0,1,2,3,4]\n",
    "\n",
    "print(spam.pop())\n",
    "print(spam)\n",
    "\n",
    "spam.pop(2)\n",
    "print(spam)"
   ]
  },
  {
   "cell_type": "markdown",
   "metadata": {
    "hidden": true
   },
   "source": [
    "`sort()` 方法可以对一组数值构成或一组字符串构成的列表进行排序，它也是直接修改原列表。其中默认的将数字从小到大排序，将字符串按照 ASCII 字符顺序进行打印（对于纯字母而言，小写的 `a` 在大写的 `Z` 之后）。注意不能对既有字符串也有数的列表进行排序，Python 会报错。\n",
    "\n",
    "也可以在 `sort()` 方法里，指定关键字参数 `reverse = True`，让 `sort()` 按逆序进行排序。如果想要按照普通的字典顺序来排序，也可以加入关键字参数 `key=str.lower`，也即将列表中所有的字符串值当成小写（但实际上并不会改变它们在列表的值）。"
   ]
  },
  {
   "cell_type": "code",
   "execution_count": 6,
   "metadata": {
    "hidden": true
   },
   "outputs": [
    {
     "name": "stdout",
     "output_type": "stream",
     "text": [
      "排序打印 [-7, 1, 2, 3.14, 5]\n",
      "逆序打印 [5, 3.14, 2, 1, -7]\n"
     ]
    }
   ],
   "source": [
    "# sort()方法\n",
    "\n",
    "spam = [2, 5, 3.14, 1, -7]\n",
    "spam.sort()\n",
    "print('排序打印',spam)\n",
    "spam.sort(reverse=True)\n",
    "print('逆序打印',spam)"
   ]
  },
  {
   "cell_type": "code",
   "execution_count": 7,
   "metadata": {},
   "outputs": [
    {
     "name": "stdout",
     "output_type": "stream",
     "text": [
      "排序打印 ['ants', 'badgers', 'cats', 'dogs', 'elephants']\n",
      "逆序打印 ['elephants', 'dogs', 'cats', 'badgers', 'ants']\n"
     ]
    }
   ],
   "source": [
    "spam = ['ants','cats','dogs','badgers','elephants']\n",
    "spam.sort()\n",
    "print('排序打印',spam)\n",
    "spam.sort(reverse=True)\n",
    "print('逆序打印',spam)"
   ]
  },
  {
   "cell_type": "code",
   "execution_count": 8,
   "metadata": {
    "hidden": true
   },
   "outputs": [
    {
     "name": "stdout",
     "output_type": "stream",
     "text": [
      "['Alice', 'Bob', 'Carol', 'ants', 'badgers', 'cats']\n"
     ]
    }
   ],
   "source": [
    "spam = ['Alice', 'ants', 'Bob', 'badgers', 'Carol', 'cats']\n",
    "spam.sort()\n",
    "print(spam)"
   ]
  },
  {
   "cell_type": "code",
   "execution_count": 9,
   "metadata": {},
   "outputs": [
    {
     "name": "stdout",
     "output_type": "stream",
     "text": [
      "['a', 'A', 'z', 'Z']\n"
     ]
    }
   ],
   "source": [
    "spam = ['a', 'z', 'A', 'Z']\n",
    "spam.sort(key=str.lower)\n",
    "print(spam)"
   ]
  },
  {
   "cell_type": "code",
   "execution_count": 12,
   "metadata": {
    "hidden": true
   },
   "outputs": [
    {
     "name": "stdout",
     "output_type": "stream",
     "text": [
      "1 的个数是 2\n",
      "2 的个数是 3\n",
      "3 的个数是 4\n"
     ]
    }
   ],
   "source": [
    "# count() 方法\n",
    "spam = [1, 1, 2, 2, 2, 3, 3, 3, 3, 4]\n",
    "\n",
    "print('1 的个数是',spam.count(1))\n",
    "print('2 的个数是',spam.count(2))\n",
    "print('3 的个数是',spam.count(3))"
   ]
  },
  {
   "cell_type": "code",
   "execution_count": 13,
   "metadata": {
    "hidden": true
   },
   "outputs": [
    {
     "name": "stdout",
     "output_type": "stream",
     "text": [
      "[4, 3, 2, 1]\n"
     ]
    }
   ],
   "source": [
    "# reverse() 方法\n",
    "spam = [1, 2, 3, 4]\n",
    "spam.reverse()\n",
    "\n",
    "print(spam)"
   ]
  },
  {
   "cell_type": "code",
   "execution_count": 14,
   "metadata": {
    "hidden": true
   },
   "outputs": [
    {
     "name": "stdout",
     "output_type": "stream",
     "text": [
      "[]\n"
     ]
    }
   ],
   "source": [
    "# clear() 方法\n",
    "spam = [1, 2, 3, 4]\n",
    "spam.clear()\n",
    "\n",
    "print(spam)"
   ]
  },
  {
   "cell_type": "markdown",
   "metadata": {
    "hidden": true
   },
   "source": [
    "### 5.1.3 列表推导式\n",
    "Python 推导式是一种独特的数据处理方式，可以从一个数据序列构建另一个新的数据序列的结构体。，这种生成方式更为简洁。Python 支持各种数据结构的推导式：\n",
    "- 列表推导式\n",
    "- 字典推导式\n",
    "- 集合推导式\n",
    "- 元组推导式\n",
    "\n",
    "这里我们先着重介绍一下列表推导式，其他类型的推导式逻辑是一致的。列表推导式的格式为：\n",
    "```python\n",
    "[out_exp_res for out_exp in input_list]\n",
    "# or\n",
    "[out_exp_res for out_exp in input_list if condition]\n",
    "```"
   ]
  },
  {
   "cell_type": "code",
   "execution_count": 11,
   "metadata": {
    "hidden": true
   },
   "outputs": [
    {
     "name": "stdout",
     "output_type": "stream",
     "text": [
      "[0, 1, 4, 9, 16]\n",
      "[0, 1, 4, 9, 16]\n",
      "[0, 1, 4, 9, 16]\n"
     ]
    }
   ],
   "source": [
    "# 创建平方值的列表\n",
    "squares = []\n",
    "for x in range(5):\n",
    "    squares.append(x**2)\n",
    "print(squares)\n",
    "\n",
    "squares = list(map(lambda x: x**2, range(5)))\n",
    "print(squares)\n",
    "\n",
    "squares = [x**2 for x in range(5)]\n",
    "print(squares)"
   ]
  },
  {
   "cell_type": "code",
   "execution_count": 14,
   "metadata": {
    "hidden": true
   },
   "outputs": [
    {
     "name": "stdout",
     "output_type": "stream",
     "text": [
      "[(1, 3), (1, 4), (2, 3), (2, 1), (2, 4), (3, 1), (3, 4)]\n",
      "[(1, 3), (1, 4), (2, 3), (2, 1), (2, 4), (3, 1), (3, 4)]\n"
     ]
    }
   ],
   "source": [
    "print([(x,y) for x in [1,2,3] for y in [3,1,4] if x!=y])\n",
    "\n",
    "# 上述代码等价于\n",
    "spam = []\n",
    "for x in [1,2,3]:\n",
    "    for y in [3,1,4]:\n",
    "        if x!=y:\n",
    "            spam.append((x,y))\n",
    "print(spam)"
   ]
  },
  {
   "cell_type": "code",
   "execution_count": 20,
   "metadata": {
    "hidden": true
   },
   "outputs": [
    {
     "name": "stdout",
     "output_type": "stream",
     "text": [
      "[[1, 5, 9], [2, 6, 10], [3, 7, 11], [4, 8, 12]]\n",
      "[[1, 5, 9], [2, 6, 10], [3, 7, 11], [4, 8, 12]]\n",
      "[[1, 5, 9], [2, 6, 10], [3, 7, 11], [4, 8, 12]]\n"
     ]
    }
   ],
   "source": [
    "# 嵌套的列表推导式，矩阵转置\n",
    "matrix = [\n",
    "    [1, 2, 3, 4],\n",
    "    [5, 6, 7, 8],\n",
    "    [9, 10, 11, 12],\n",
    "]\n",
    "\n",
    "print([[row[i] for row in matrix] for i in range(4)])\n",
    "\n",
    "# 上述代码等价于\n",
    "transposed = []\n",
    "for i in range(4):\n",
    "    transposed.append([row[i] for row in matrix])\n",
    "print(transposed)\n",
    "\n",
    "# 也等价于\n",
    "transposed = []\n",
    "for i in range(4):\n",
    "    transposed_row = []\n",
    "    for row in matrix:\n",
    "        transposed_row.append(row[i])\n",
    "    transposed.append(transposed_row)\n",
    "print(transposed)"
   ]
  },
  {
   "cell_type": "markdown",
   "metadata": {
    "heading_collapsed": true
   },
   "source": [
    "## 5.2 Tuple 元组\n",
    "元组和列表几乎一样，除了以下两点：\n",
    "1. 元组输入时用圆括号 `()`, 但列表使用的是方括号 `[]`；\n",
    "2. 元组是不可变的数据类型，但列表是可变的数据类型。元组没有 `append()`, `insert()` 这样的方法。\n",
    "\n",
    "其他操作和列表几乎完全一致，比如索引、切片、用于 for 循环等。\n",
    "\n",
    "这里有一个非常值得探讨的问题，我们已经有了列表这种数据结构，为什么还需要元组这样的类型呢？\n",
    "\n",
    "1. 我们在项目中尤其是多线程环境中可能更喜欢使用不变对象（一方面因为对象状态不能修改，所以可以避免由此引起的不必要的程序错误；另一方面因为没有任何一个线程能够修改不变对象的内部状态，一个不变对象自动就是线程安全的）。所以结论就是：如果不需要对元素进行添加、删除、修改的时候，可以考虑使用元组。\n",
    "2. 元组在创建时间和占用的空间上面都优于列表。简单来说就是程序运行更快，占用空间更少。"
   ]
  },
  {
   "cell_type": "code",
   "execution_count": 36,
   "metadata": {
    "hidden": true
   },
   "outputs": [
    {
     "name": "stdout",
     "output_type": "stream",
     "text": [
      "Hello\n",
      "(42, 0.5)\n",
      "3\n",
      "Now is Hello.\n",
      "Now is 42.\n",
      "Now is 0.5.\n",
      "True False\n"
     ]
    }
   ],
   "source": [
    "eggs = ('Hello', 42, 0.5)\n",
    "\n",
    "print(eggs[0])\n",
    "print(eggs[1:3])\n",
    "print(len(eggs))\n",
    "\n",
    "for i in eggs:\n",
    "    print('Now is %s.'%i)\n",
    "    \n",
    "print(42 in eggs, 0.5 not in eggs)"
   ]
  },
  {
   "cell_type": "markdown",
   "metadata": {
    "hidden": true
   },
   "source": [
    "元组推导式和列表推导式的用法也几乎相同，只要用 `()` 圆括号把各部分括起来。有一点需要注意，元组推导式返回的结果是一个**生成器对象**，使用 `tuple()` 函数可以将它转换成元组"
   ]
  },
  {
   "cell_type": "code",
   "execution_count": 22,
   "metadata": {
    "hidden": true
   },
   "outputs": [
    {
     "name": "stdout",
     "output_type": "stream",
     "text": [
      "<generator object <genexpr> at 0x000002222E65DFF0>\n",
      "(1, 2, 3, 4, 5, 6, 7, 8, 9)\n"
     ]
    }
   ],
   "source": [
    "# 元组推导式\n",
    "spam = (x for x in range(1,10)) # 返回生成器对象\n",
    "print(spam)\n",
    "print(tuple(spam))"
   ]
  },
  {
   "cell_type": "code",
   "execution_count": 38,
   "metadata": {
    "hidden": true
   },
   "outputs": [
    {
     "ename": "TypeError",
     "evalue": "'tuple' object does not support item assignment",
     "output_type": "error",
     "traceback": [
      "\u001b[1;31m---------------------------------------------------------------------------\u001b[0m",
      "\u001b[1;31mTypeError\u001b[0m                                 Traceback (most recent call last)",
      "Cell \u001b[1;32mIn[38], line 2\u001b[0m\n\u001b[0;32m      1\u001b[0m eggs \u001b[38;5;241m=\u001b[39m (\u001b[38;5;124m'\u001b[39m\u001b[38;5;124mHello\u001b[39m\u001b[38;5;124m'\u001b[39m, \u001b[38;5;241m42\u001b[39m, \u001b[38;5;241m0.5\u001b[39m)\n\u001b[1;32m----> 2\u001b[0m eggs[\u001b[38;5;241m1\u001b[39m] \u001b[38;5;241m=\u001b[39m \u001b[38;5;241m99\u001b[39m\n",
      "\u001b[1;31mTypeError\u001b[0m: 'tuple' object does not support item assignment"
     ]
    }
   ],
   "source": [
    "eggs = ('Hello', 42, 0.5)\n",
    "eggs[1] = 99 # 元组不可变，不能被修改、添加或删除。"
   ]
  },
  {
   "cell_type": "markdown",
   "metadata": {
    "hidden": true
   },
   "source": [
    "如果元组中只有一个值, Python 会认为我们只是在一个圆括号里输入了一个值。要需要将它识别为一个元组，我们可以在这个值后面添加一个逗号。"
   ]
  },
  {
   "cell_type": "code",
   "execution_count": 39,
   "metadata": {
    "hidden": true
   },
   "outputs": [
    {
     "name": "stdout",
     "output_type": "stream",
     "text": [
      "<class 'str'>\n",
      "<class 'tuple'>\n"
     ]
    }
   ],
   "source": [
    "eggs = ('hello')\n",
    "print(type(eggs))\n",
    "\n",
    "eggs = ('hello',)\n",
    "print(type(eggs))"
   ]
  },
  {
   "cell_type": "markdown",
   "metadata": {
    "hidden": true
   },
   "source": [
    "通过 `list()` 和 `tuple()` 函数可以将列表和元组互相转换类型。"
   ]
  },
  {
   "cell_type": "code",
   "execution_count": 40,
   "metadata": {
    "hidden": true
   },
   "outputs": [
    {
     "name": "stdout",
     "output_type": "stream",
     "text": [
      "<class 'list'>\n",
      "<class 'tuple'>\n"
     ]
    }
   ],
   "source": [
    "a = list(('cat','dog',5))\n",
    "print(type(a))\n",
    "\n",
    "b = tuple(['cat','dog',5])\n",
    "print(type(b))"
   ]
  },
  {
   "cell_type": "markdown",
   "metadata": {
    "hidden": true
   },
   "source": [
    "最后我们来看一个“可变的”元组。这里的可变并非意味着原来的元组可变，而是代表元组包含的可变元素发生了改变。如果要创建一个内容也不变的元组，就必须保证元组的每一个元素本身也不能改变。请看以下例子："
   ]
  },
  {
   "cell_type": "code",
   "execution_count": 19,
   "metadata": {
    "hidden": true
   },
   "outputs": [
    {
     "name": "stdout",
     "output_type": "stream",
     "text": [
      "('a', 'b', ['X', 'Y'])\n"
     ]
    }
   ],
   "source": [
    "spam = ('a','b', ['A','B'])\n",
    "spam[2][0] = 'X'\n",
    "spam[2][1] = 'Y'\n",
    "\n",
    "# spam 中的元素发生了改变，因为 spam[2] 是一个列表，是一个可变元素\n",
    "print(spam) "
   ]
  },
  {
   "cell_type": "markdown",
   "metadata": {
    "heading_collapsed": true
   },
   "source": [
    "## 5.3 Set 集合\n",
    "\n",
    "Python 还支持集合这种数据类型。集合是由不重复元素组成的无序容器。集合中的元素不会重复，并且可以进行交集、并集、差集等常见的集合操作。"
   ]
  },
  {
   "cell_type": "markdown",
   "metadata": {
    "heading_collapsed": true,
    "hidden": true
   },
   "source": [
    "### 5.3.1 集合的基本操作\n",
    "\n",
    "集合的定义：可以使用大括号 `{}` 来创建集合，元素之间用逗号分隔，也可以用 `set()` 函数来创建集合。创建的基本格式是：\n",
    "\n",
    "```python\n",
    "parame = {value01,value02,...}\n",
    "# 或者\n",
    "set(value)\n",
    "```"
   ]
  },
  {
   "cell_type": "code",
   "execution_count": 23,
   "metadata": {
    "hidden": true
   },
   "outputs": [
    {
     "name": "stdout",
     "output_type": "stream",
     "text": [
      "{1, 2, 3, 4}\n"
     ]
    }
   ],
   "source": [
    "set1 = {1,2,3,4}\n",
    "set2 = set([4,5,6,7])\n",
    "\n",
    "set3 = {1,1,1,2,3,4}\n",
    "# 集合中的元素不会重复\n",
    "print(set3)"
   ]
  },
  {
   "cell_type": "code",
   "execution_count": 24,
   "metadata": {
    "hidden": true
   },
   "outputs": [
    {
     "name": "stdout",
     "output_type": "stream",
     "text": [
      "{'b', 'd', 'r'}\n",
      "{'b', 'a', 'r', 'z', 'c', 'm', 'd', 'l'}\n",
      "{'c', 'a'}\n",
      "{'b', 'z', 'r', 'm', 'd', 'l'}\n"
     ]
    }
   ],
   "source": [
    "a = set('abracadabra')\n",
    "b = set('alacazam')\n",
    "\n",
    "# 差集：集合 a 中包含，但集合 b 中不包含的元素\n",
    "print(a-b)\n",
    "# 并集：集合 a 或 b 中包含的元素\n",
    "print(a|b)\n",
    "# 交集：集合 a 和 b 中包含的元素\n",
    "print(a&b)\n",
    "# 不同时包含于 a 和 b 的元素（只出现在其中一个集合里）\n",
    "print(a^b)"
   ]
  },
  {
   "cell_type": "code",
   "execution_count": 7,
   "metadata": {
    "hidden": true
   },
   "outputs": [
    {
     "name": "stdout",
     "output_type": "stream",
     "text": [
      "{'r', 'd'}\n",
      "{0, 2, 4, 6, 8}\n"
     ]
    }
   ],
   "source": [
    "# 集合推导式\n",
    "a = {x for x in 'abracadabra' if x not in 'abc'}\n",
    "print(a)\n",
    "\n",
    "a = {x for x in range(10) if x %2 ==0}\n",
    "print(a)"
   ]
  },
  {
   "cell_type": "markdown",
   "metadata": {
    "heading_collapsed": true,
    "hidden": true
   },
   "source": [
    "### 5.3.2 集合的方法\n",
    "以下列举一些较为常见的方法：\n",
    "- `add()` 方法将元素添加到集合中\n",
    "- `update()` 方法也可以添加元素，且参数可以是列表、元组、字典等\n",
    "- `remove()` 方法将元素从集合中删除\n",
    "- `discard()` 方法也可以将元素从集合中删除，且元素不存在时不会报错\n",
    "- `clear()` 方法可以清空集合\n",
    "- `intersection()` 方法**返回**多个集合的交集\n",
    "- `difference()` 方法**返回**多个集合的差集\n",
    "- `union()` 方法**返回**多个集合的并集"
   ]
  },
  {
   "cell_type": "code",
   "execution_count": 15,
   "metadata": {
    "hidden": true
   },
   "outputs": [
    {
     "name": "stdout",
     "output_type": "stream",
     "text": [
      "{1, 2, 3, 4}\n",
      "{1, 2, 3, 4, '5', '6'}\n",
      "{1, 2, 3, 4, '5'}\n",
      "set()\n"
     ]
    }
   ],
   "source": [
    "x = {1,2,3}\n",
    "x.add(4)\n",
    "print(x)\n",
    "\n",
    "x.update(['5','6'])\n",
    "print(x)\n",
    "\n",
    "x.remove('6')\n",
    "print(x)\n",
    "\n",
    "x.discard('7')\n",
    "\n",
    "x.clear()\n",
    "print(x)"
   ]
  },
  {
   "cell_type": "code",
   "execution_count": 19,
   "metadata": {
    "hidden": true
   },
   "outputs": [
    {
     "name": "stdout",
     "output_type": "stream",
     "text": [
      "{2, 3}\n",
      "{1}\n",
      "{1, 2, 3, 4}\n"
     ]
    }
   ],
   "source": [
    "x = {1,2,3}\n",
    "y = {2,3,4}\n",
    "\n",
    "print(x.intersection(y))\n",
    "print(x.difference(y))\n",
    "print(x.union(y))"
   ]
  },
  {
   "cell_type": "markdown",
   "metadata": {
    "heading_collapsed": true
   },
   "source": [
    "## 5.4 Dictionary 字典\n",
    "Python 里还有一个非常有用的内置数据类型，称为字典（dictionary），它提供了一种灵活的访问和组织数据的方式。像列表一样，字典是许多值的集合。但不像列表的索引只能是整数，字典的索引可以是许多不同的数据类型。字典的索引称为“键”，键及其关联的值成为“键-值”对（key-value）。"
   ]
  },
  {
   "cell_type": "markdown",
   "metadata": {
    "heading_collapsed": true,
    "hidden": true
   },
   "source": [
    "### 5.4.1 字典的基本操作\n",
    "字典的每个键值对 `key->value` 用冒号 `:` 割开，每个键值对用逗号 `,` 分隔，整个字典包括在花括号 `{}` 中，基本格式如下：\n",
    "\n",
    "```python\n",
    "d = {key1 : value1, key2 : value2, key3 : value3 }\n",
    "```\n",
    "\n",
    "也可以通过 `dict()` 函数用键值对序列创建字典。注意键必须是唯一的，且是不可变数据类型；但值可以不唯一，且可以取任何数据类型。通过键可以访问对应的值（字典的索引就是键）。"
   ]
  },
  {
   "cell_type": "code",
   "execution_count": 5,
   "metadata": {
    "hidden": true
   },
   "outputs": [
    {
     "name": "stdout",
     "output_type": "stream",
     "text": [
      "fat\n",
      "My cat has gray fur.\n"
     ]
    }
   ],
   "source": [
    "my_cat = {'size':'fat', 'color':'gray', 'disposition':'loud'}\n",
    "\n",
    "print(my_cat['size'])\n",
    "print('My cat has ' + my_cat['color'] + ' fur.')"
   ]
  },
  {
   "cell_type": "code",
   "execution_count": 2,
   "metadata": {
    "hidden": true
   },
   "outputs": [
    {
     "name": "stdout",
     "output_type": "stream",
     "text": [
      "{'apples': 3, 'bananas': '4', 'pears': 5}\n"
     ]
    }
   ],
   "source": [
    "fruit =dict([('apples',3),('bananas','4'),('pears',5)])\n",
    "\n",
    "print(fruit)"
   ]
  },
  {
   "cell_type": "code",
   "execution_count": 23,
   "metadata": {
    "hidden": true
   },
   "outputs": [
    {
     "name": "stdout",
     "output_type": "stream",
     "text": [
      "{2: 4, 4: 16, 6: 36}\n",
      "{'Google': 6, 'Runoob': 6, 'Taobao': 6}\n"
     ]
    }
   ],
   "source": [
    "# 字典推导式\n",
    "print({x: x**2 for x in (2,4,6)})\n",
    "\n",
    "listdemo = ['Google','Runoob', 'Taobao']\n",
    "spam = {key:len(key) for key in listdemo}\n",
    "print(spam)"
   ]
  },
  {
   "cell_type": "markdown",
   "metadata": {
    "hidden": true
   },
   "source": [
    "列表是一个序列（元素按照顺序排列存储），但字典中的键值对是不排序的，所以它是一个无序容器（集合也是一个无序容器）。确定两个列表是否相同时，元素的顺序很重要，但在字典里，键值对的顺序并不重要。\n",
    "\n",
    "<div class=\"alert alert-block alert-info\"><b>注意：</b> 无序的数据类型没办法做切片。</div>"
   ]
  },
  {
   "cell_type": "code",
   "execution_count": 6,
   "metadata": {
    "hidden": true
   },
   "outputs": [
    {
     "name": "stdout",
     "output_type": "stream",
     "text": [
      "False\n",
      "True\n"
     ]
    }
   ],
   "source": [
    "spam = ['cats', 'dogs', 'moose']\n",
    "bacon = ['dogs','moose','cats']\n",
    "print(spam == bacon)\n",
    "\n",
    "eggs = {'name':'Zophie', 'species':'cat', 'age':'8'}\n",
    "ham = {'species':'cat', 'age':'8', 'name':'Zophie'}\n",
    "print(eggs == ham)"
   ]
  },
  {
   "cell_type": "markdown",
   "metadata": {
    "hidden": true
   },
   "source": [
    "尽管字典是不排序的，但可以用任意值作为键，这一点让我们能够用强大的方式来组织数据。"
   ]
  },
  {
   "cell_type": "code",
   "execution_count": 7,
   "metadata": {
    "hidden": true
   },
   "outputs": [
    {
     "name": "stdout",
     "output_type": "stream",
     "text": [
      "Enter a name: (blank to quit)\n",
      "Alice\n",
      "Apr 1 is the birthday of Alice\n",
      "Enter a name: (blank to quit)\n",
      "Bob\n",
      "Dec 12 is the birthday of Bob\n",
      "Enter a name: (blank to quit)\n",
      "QWERT\n",
      "I do not have birthday information for QWERT\n",
      "What is their birthday\n",
      "June 1\n",
      "Brithday database updated.\n",
      "Enter a name: (blank to quit)\n",
      "\n"
     ]
    }
   ],
   "source": [
    "# 保存朋友生日的数据\n",
    "birthdays = {'Alice':'Apr 1', 'Bob':'Dec 12', 'Carol':'Mar 4'}\n",
    "\n",
    "while True:\n",
    "    print('Enter a name: (blank to quit)')\n",
    "    name = input()\n",
    "    if name =='':\n",
    "        break\n",
    "        \n",
    "    if name in birthdays:\n",
    "        print(birthdays[name] + ' is the birthday of ' + name)\n",
    "    else:\n",
    "        print('I do not have birthday information for ' + name)\n",
    "        print('What is their birthday')\n",
    "        bday = input()\n",
    "        birthdays[name] = bday # 给字典添加新的键值对\n",
    "        print('Brithday database updated.')"
   ]
  },
  {
   "cell_type": "markdown",
   "metadata": {
    "hidden": true
   },
   "source": [
    "前面我们提到，字典的键必须是不可变数据类型，而值可以是任何数据类型。所以一个自然的想法是，值也是一个字典。这样我们就得到了一个嵌套字典。"
   ]
  },
  {
   "cell_type": "code",
   "execution_count": 37,
   "metadata": {
    "hidden": true
   },
   "outputs": [
    {
     "name": "stdout",
     "output_type": "stream",
     "text": [
      "被带来的食物各自有：\n",
      "- Apples 7\n",
      "- Cups 3\n",
      "- Cakes 0\n",
      "- Ham Sandwiches 3\n",
      "- Apple pies 1\n"
     ]
    }
   ],
   "source": [
    "# 统计客人所带的食物数量和种类\n",
    "all_food = {'Alice':{'apples':5,'pretzels':12},\n",
    "           'Bob':{'ham sandwiches':3, 'apples':2},\n",
    "           'Carol':{'cups':3, 'apple pies':1}}\n",
    "\n",
    "def total_brought(guests,item):\n",
    "    num_brought = 0\n",
    "    for k,v in guests.items():\n",
    "        num_brought = num_brought + v.get(item,0)\n",
    "    return num_brought\n",
    "\n",
    "print('被带来的食物各自有：')\n",
    "print('- Apples ' + str(total_brought(all_food,'apples')))\n",
    "print('- Cups ' + str(total_brought(all_food,'cups')))\n",
    "print('- Cakes ' + str(total_brought(all_food,'cakes')))\n",
    "print('- Ham Sandwiches ' + str(total_brought(all_food,'ham sandwiches')))\n",
    "print('- Apple pies ' + str(total_brought(all_food,'apple pies')))"
   ]
  },
  {
   "cell_type": "markdown",
   "metadata": {
    "hidden": true
   },
   "source": [
    "和列表相比较，字典有以下几个特点：\n",
    "\n",
    "1. 查找和插入的速度极快，不会随着key的增加而变慢；\n",
    "2. 需要占用大量的内存，内存浪费多。\n",
    "\n",
    "而列表相反：\n",
    "1. 查找和插入的时间随着元素的增加而增加；\n",
    "2. 占用空间小，浪费内存很少。\n",
    "\n",
    "所以，字典是用空间来换取时间的一种方法。字典可以用在需要高速查找的很多地方，在 Python 代码中几乎无处不在，正确使用字典非常重要，需要牢记的第一条就是字典的键必须是不可变对象。"
   ]
  },
  {
   "cell_type": "markdown",
   "metadata": {
    "heading_collapsed": true,
    "hidden": true
   },
   "source": [
    "### 5.4.2 字典的方法\n",
    "这里介绍一些字典的可能常用方法：\n",
    "- `keys()` 方法返回字典的键\n",
    "- `values()` 方法返回字典的值\n",
    "- `items()` 方法返回字典的键值对\n",
    "- `get(key,default=None)` 方法返回指定键的值，如果键不在字典中就返回 default 设置的默认值\n",
    "- `setdefault()` 方法和 `get()` 类似，但如果键不在字典中，会添加键并将其值设为 default\n",
    "- `copy()` 方法返回一个字典的浅复制\n",
    "- `update(dic2)` 方法将字典 dic2 的键值对更新到原字典中\n",
    "- `pop(key[,default])` 删除字典键所对应的值，并返回被删除的值\n",
    "- `clear()` 方法清空字典\n",
    "\n",
    "结合字典的方法，通过 `in` 和 `not in` 操作符可以检查键或值是否存在于字典中。"
   ]
  },
  {
   "cell_type": "code",
   "execution_count": 10,
   "metadata": {
    "hidden": true
   },
   "outputs": [
    {
     "name": "stdout",
     "output_type": "stream",
     "text": [
      "dict_keys(['color', 'age'])\n",
      "dict_values(['red', 42])\n",
      "dict_items([('color', 'red'), ('age', 42)])\n"
     ]
    }
   ],
   "source": [
    "# 返回字典的键、值、键值对\n",
    "spam = {'color': 'red', 'age':42}\n",
    "\n",
    "# dict_keys, dict_values, dict_items 是它们的数据类型\n",
    "print(spam.keys())\n",
    "print(spam.values())\n",
    "print(spam.items())"
   ]
  },
  {
   "cell_type": "code",
   "execution_count": 15,
   "metadata": {
    "hidden": true
   },
   "outputs": [
    {
     "name": "stdout",
     "output_type": "stream",
     "text": [
      "True\n",
      "True\n",
      "True\n"
     ]
    }
   ],
   "source": [
    "# 判断键或值是否存在于字典中\n",
    "spam = {'name': 'Zophie', 'age':7}\n",
    "print('name' in spam.keys())\n",
    "print('Zophie' in spam.values())\n",
    "print('color' not in spam.keys())"
   ]
  },
  {
   "cell_type": "code",
   "execution_count": 6,
   "metadata": {
    "hidden": true
   },
   "outputs": [
    {
     "name": "stdout",
     "output_type": "stream",
     "text": [
      "5\n",
      "replace\n",
      "{'apples': 5, 'cups': 2} \n",
      "\n",
      "5\n",
      "replace\n",
      "{'apples': 5, 'cups': 2, 'pears': 'replace'}\n"
     ]
    }
   ],
   "source": [
    "# 返回指定字典键的值\n",
    "spam = {'apples':5, 'cups':2}\n",
    "print(spam.get('apples','replace'))\n",
    "print(spam.get('pears','replace'))\n",
    "print(spam,'\\n')\n",
    "\n",
    "print(spam.setdefault('apples','replace'))\n",
    "print(spam.setdefault('pears','replace'))\n",
    "print(spam)"
   ]
  },
  {
   "cell_type": "code",
   "execution_count": 28,
   "metadata": {
    "hidden": true
   },
   "outputs": [
    {
     "name": "stdout",
     "output_type": "stream",
     "text": [
      "{'apples': 5, 'cups': 2, 'pears': 7, 'bananas': 10}\n",
      "5\n",
      "{'cups': 2, 'pears': 7, 'bananas': 10}\n"
     ]
    }
   ],
   "source": [
    "# 更新或删除字典中的键值对\n",
    "spam = {'apples':5, 'cups':2}\n",
    "spam.update({'pears':7, 'bananas':10})\n",
    "print(spam)\n",
    "\n",
    "print(spam.pop('apples'))\n",
    "print(spam)"
   ]
  },
  {
   "cell_type": "code",
   "execution_count": 33,
   "metadata": {
    "hidden": true
   },
   "outputs": [
    {
     "name": "stdout",
     "output_type": "stream",
     "text": [
      "{' ': 13,\n",
      " ',': 1,\n",
      " '.': 1,\n",
      " 'A': 1,\n",
      " 'I': 1,\n",
      " 'a': 4,\n",
      " 'b': 1,\n",
      " 'c': 3,\n",
      " 'd': 3,\n",
      " 'e': 5,\n",
      " 'g': 2,\n",
      " 'h': 3,\n",
      " 'i': 6,\n",
      " 'k': 2,\n",
      " 'l': 3,\n",
      " 'n': 4,\n",
      " 'o': 2,\n",
      " 'p': 1,\n",
      " 'r': 5,\n",
      " 's': 3,\n",
      " 't': 6,\n",
      " 'w': 2,\n",
      " 'y': 1}\n"
     ]
    }
   ],
   "source": [
    "# 统计一段文本里字符出现的次数\n",
    "import pprint\n",
    "\n",
    "message = 'It was a bright cold day in April, and the clocks were striking thirteen.'\n",
    "count = {}\n",
    "for character in message:\n",
    "    count.setdefault(character, 0)\n",
    "    count[character] = count[character] + 1\n",
    "\n",
    "# pprint 的输出结果比 print 更干净\n",
    "pprint.pprint(count)"
   ]
  },
  {
   "cell_type": "markdown",
   "metadata": {},
   "source": [
    "## 5.5 补充：String 字符串再叙"
   ]
  },
  {
   "cell_type": "markdown",
   "metadata": {},
   "source": [
    "### 5.5.1 字符串的基本操作\n",
    "列表并不是唯一表示序列值的数据类型。例如，字符串和列表实际上很相似，只要我们认为字符串时单个文字字符的列表。对列表的许多操作，也可以作用于字符串：索引、切片、用于 for 循环、用于 in 和 not in 操作符等，这部分内容在第二节我们已经提及过，现在回顾一下。\n"
   ]
  },
  {
   "cell_type": "code",
   "execution_count": 26,
   "metadata": {
    "scrolled": true
   },
   "outputs": [
    {
     "name": "stdout",
     "output_type": "stream",
     "text": [
      "Z\n",
      "i\n",
      "Ziph\n",
      "ihpi\n",
      "The letter is Z.\n",
      "The letter is i.\n",
      "The letter is p.\n",
      "The letter is h.\n",
      "The letter is i.\n",
      "The letter is e.\n",
      "True False\n"
     ]
    }
   ],
   "source": [
    "name = 'Ziphie'\n",
    "\n",
    "print(name[0])\n",
    "print(name[-2])\n",
    "print(name[0:4])\n",
    "print(name[4:0:-1])\n",
    "\n",
    "for i in name:\n",
    "    print('The letter is %s.'%i)\n",
    "    \n",
    "print('Z' in name, 'Z' not in name)"
   ]
  },
  {
   "cell_type": "markdown",
   "metadata": {},
   "source": [
    "但有一点需要反复强调（尽管我们之前已经提过），字符串是**不可变**的数据类型，列表是**可变**的数据类型。\n",
    "\n",
    "<div class=\"alert alert-block alert-warning\"> <b>提醒：</b> 可变的数据类型，可以被添加、删除或者修改。但不可变的数据类型，不能被更改，否则会报错。 </div>"
   ]
  },
  {
   "cell_type": "code",
   "execution_count": 48,
   "metadata": {},
   "outputs": [
    {
     "name": "stdout",
     "output_type": "stream",
     "text": [
      "5 * 10 = 50\n",
      "5 * 10 = 50\n",
      "5 * 10 = 50\n"
     ]
    }
   ],
   "source": [
    "# 字符串的格式化输出\n",
    "a, b = 5, 10\n",
    "print('%d * %d = %d' % (a, b, a*b))\n",
    "\n",
    "print('{0} * {1} = {2}'.format(a,b,a * b))\n",
    "print(f'{a} * {b} = {a * b}')"
   ]
  },
  {
   "cell_type": "markdown",
   "metadata": {},
   "source": [
    "### 5.5.2 字符串的方法\n",
    "一些字符串方法会分析字符串，或生成转变过得字符串。这里我们简单介绍一些常用的字符串方法。\n",
    "- `upper()`, `lower()` 方法会返回一个新字符串，原字符串的所有字母都转换为大写或小写。非字母字符保持不变\n",
    "- `isupper()`, `islower()` 方法判断字符串里所有字母是否都是大写或小写\n",
    "- `isalpha()` 方法判断字符串是否只含字母且非空\n",
    "- `isalnum()` 方法判断字符串是否只含字母和数字，且非空\n",
    "- `isdecimal()` 方法判断字符串是否只含数字且非空\n",
    "- `isspace()` 方法判断字符串是否只包含空格、制表符和换行，且非空\n",
    "- `istitle()` 方法判断字符串是否仅包含以大写字母开头、后面都是小写字母的单词\n",
    "- `startswith()`, `endswith()` 方法判断是否是以指定字符串开始或结束\n",
    "- `join()` 方法将字符串列表连接起来，被调用的字符串是连接符\n",
    "- `split()` 方法将字符串分割，返回一个字符串列表\n",
    "- `rjust()`, `ljust()`, `center()` 方法用来对齐文本 \n",
    "- `strip()`, `rstrip()`, `lstrip()` 方法用来删除空白字符"
   ]
  },
  {
   "cell_type": "code",
   "execution_count": 25,
   "metadata": {},
   "outputs": [
    {
     "name": "stdout",
     "output_type": "stream",
     "text": [
      "HELLO WORLD!\n",
      "hello world!\n"
     ]
    }
   ],
   "source": [
    "# upper() 和 lower() 方法\n",
    "spam = 'Hello world!'\n",
    "spam = spam.upper()\n",
    "print(spam)\n",
    "\n",
    "spam = spam.lower()\n",
    "print(spam)"
   ]
  },
  {
   "cell_type": "code",
   "execution_count": 27,
   "metadata": {},
   "outputs": [
    {
     "name": "stdout",
     "output_type": "stream",
     "text": [
      "False\n",
      "False\n",
      "True\n",
      "True\n"
     ]
    }
   ],
   "source": [
    "#isupper() 和 islower() 方法\n",
    "spam = 'Hello world!'\n",
    "print(spam.islower())\n",
    "print(spam.isupper())\n",
    "\n",
    "spam = spam.upper()\n",
    "print(spam.isupper())\n",
    "\n",
    "spam = spam.lower()\n",
    "print(spam.islower())"
   ]
  },
  {
   "cell_type": "code",
   "execution_count": 30,
   "metadata": {},
   "outputs": [
    {
     "name": "stdout",
     "output_type": "stream",
     "text": [
      "True\n",
      "False\n",
      "True\n",
      "True\n",
      "True\n",
      "True\n",
      "True\n",
      "True\n",
      "False\n",
      "False\n"
     ]
    }
   ],
   "source": [
    "# isX() 方法\n",
    "print('hello'.isalpha())\n",
    "print('hello123'.isalpha())\n",
    "print('hello123'.isalnum())\n",
    "print('hello'.isalnum())\n",
    "print('123'.isdecimal())\n",
    "print(' '.isspace())\n",
    "print('This Is Title Case'.istitle())\n",
    "print('This Is Title Case 123'.istitle())\n",
    "print('This Is not Title Case'.istitle())\n",
    "print('This Is NOT Title Case Either'.istitle())"
   ]
  },
  {
   "cell_type": "code",
   "execution_count": 31,
   "metadata": {},
   "outputs": [
    {
     "name": "stdout",
     "output_type": "stream",
     "text": [
      "True\n",
      "True\n"
     ]
    }
   ],
   "source": [
    "# startswith() 和 endswith() 方法\n",
    "print('Hello world!'.startswith('Hello'))\n",
    "print('Hello world!'.endswith('world!'))"
   ]
  },
  {
   "cell_type": "code",
   "execution_count": 34,
   "metadata": {},
   "outputs": [
    {
     "name": "stdout",
     "output_type": "stream",
     "text": [
      "cats,rats,bats\n",
      "My-name-is-Simon\n"
     ]
    }
   ],
   "source": [
    "# join() 方法\n",
    "print(','.join(['cats','rats','bats']))\n",
    "print('-'.join(['My','name','is','Simon']))"
   ]
  },
  {
   "cell_type": "code",
   "execution_count": 35,
   "metadata": {},
   "outputs": [
    {
     "name": "stdout",
     "output_type": "stream",
     "text": [
      "['My', 'name', 'is', 'Simon']\n",
      "['My', 'name', 'is', 'Simon']\n"
     ]
    }
   ],
   "source": [
    "# split() 方法\n",
    "print('My name is Simon'.split())\n",
    "print('My,name,is,Simon'.split(','))"
   ]
  },
  {
   "cell_type": "code",
   "execution_count": 44,
   "metadata": {},
   "outputs": [
    {
     "name": "stdout",
     "output_type": "stream",
     "text": [
      "     Hello\n",
      "***************Hello\n",
      "Hello---------------\n",
      "=======Hello========\n"
     ]
    }
   ],
   "source": [
    "# rjust(), ljust(), center() 方法\n",
    "print('Hello'.rjust(10))\n",
    "print('Hello'.rjust(20,'*'))\n",
    "print('Hello'.ljust(20,'-'))\n",
    "print('Hello'.center(20,'='))"
   ]
  },
  {
   "cell_type": "code",
   "execution_count": 46,
   "metadata": {},
   "outputs": [
    {
     "name": "stdout",
     "output_type": "stream",
     "text": [
      "Hello world\n",
      "Hello world \n",
      " Hello world\n"
     ]
    }
   ],
   "source": [
    "# strip(), lstrip(), rstrip() 方法\n",
    "spam = ' Hello world '\n",
    "print(spam.strip()) # 删除两边空格\n",
    "print(spam.lstrip()) # 删除左边空格\n",
    "print(spam.rstrip()) # 删除右边空格"
   ]
  },
  {
   "cell_type": "markdown",
   "metadata": {},
   "source": [
    "## 5.6 References\n",
    "- [1] [Python 官方手册（中文）](https://docs.python.org/zh-cn/3/)\n",
    "- [2] [Python 官方手册（英文）](https://docs.python.org/3/)\n",
    "- [3] [Python 3 教程 - 菜鸟教程](https://www.runoob.com/python3/python3-tutorial.html)\n",
    "- [4] [廖雪峰的 Python 教程](https://www.liaoxuefeng.com/wiki/1016959663602400)\n",
    "- [5] [Python - 100天从新手到大师](https://github.com/jackfrued/Python-100-Days/tree/master)\n",
    "- [6] Eric Matthes.《Python编程 - 从入门到实践（第二版）》（袁国忠译）. 人民邮电出版社\n",
    "- [7] Al Sweigart.《Python编程 - 快速上手 -- 让繁琐工作自动化》（王海鹏译）. 人民邮电出版社"
   ]
  }
 ],
 "metadata": {
  "kernelspec": {
   "display_name": "Python 3 (ipykernel)",
   "language": "python",
   "name": "python3"
  },
  "language_info": {
   "codemirror_mode": {
    "name": "ipython",
    "version": 3
   },
   "file_extension": ".py",
   "mimetype": "text/x-python",
   "name": "python",
   "nbconvert_exporter": "python",
   "pygments_lexer": "ipython3",
   "version": "3.11.7"
  },
  "toc": {
   "base_numbering": 1,
   "nav_menu": {
    "height": "222px",
    "width": "176px"
   },
   "number_sections": false,
   "sideBar": true,
   "skip_h1_title": false,
   "title_cell": "Table of Contents",
   "title_sidebar": "Contents",
   "toc_cell": false,
   "toc_position": {
    "height": "calc(100% - 180px)",
    "left": "10px",
    "top": "150px",
    "width": "298px"
   },
   "toc_section_display": true,
   "toc_window_display": false
  },
  "varInspector": {
   "cols": {
    "lenName": 16,
    "lenType": 16,
    "lenVar": 40
   },
   "kernels_config": {
    "python": {
     "delete_cmd_postfix": "",
     "delete_cmd_prefix": "del ",
     "library": "var_list.py",
     "varRefreshCmd": "print(var_dic_list())"
    },
    "r": {
     "delete_cmd_postfix": ") ",
     "delete_cmd_prefix": "rm(",
     "library": "var_list.r",
     "varRefreshCmd": "cat(var_dic_list()) "
    }
   },
   "types_to_exclude": [
    "module",
    "function",
    "builtin_function_or_method",
    "instance",
    "_Feature"
   ],
   "window_display": false
  }
 },
 "nbformat": 4,
 "nbformat_minor": 2
}
