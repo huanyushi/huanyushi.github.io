{
 "cells": [
  {
   "cell_type": "markdown",
   "metadata": {},
   "source": [
    "# 2. Python 数据类型之：数字、字符串、布尔值\n",
    "\n",
    "> 注意：本教程建立在 Python3 的基础上"
   ]
  },
  {
   "cell_type": "markdown",
   "metadata": {},
   "source": [
    "## 2.1 Python 用作简单的计算器\n",
    "Python 可以用来做数学计算器，以下是一些最简单的运算操作：\n",
    "- `+`, `-`, `*`, `/` 分别代表加、减、乘、除；\n",
    "- `**`, `//`, `%` 分别代表乘方、整除（即商取整数）、取模（即求余数）。"
   ]
  },
  {
   "cell_type": "code",
   "execution_count": 1,
   "metadata": {
    "scrolled": true
   },
   "outputs": [
    {
     "name": "stdout",
     "output_type": "stream",
     "text": [
      "加法 2 \n",
      "减法 0 \n",
      "乘法 4 \n",
      "除法 1.3333333333333333\n"
     ]
    }
   ],
   "source": [
    "print('加法', 1 + 1 ,'\\n'\n",
    "      '减法', 1 - 1,'\\n'\n",
    "      '乘法', 2 * 2,'\\n'\n",
    "      '除法', 8/6)\n",
    "\n",
    "# 注释\n",
    "\n",
    "# ctrl + ? 注释\n",
    "# 你好\n",
    "# 你好\n",
    "# 你好 \n",
    "\n",
    "# ctrl + ] 缩进\n",
    "\n",
    "# ctrl + s 保存"
   ]
  },
  {
   "cell_type": "code",
   "execution_count": 2,
   "metadata": {},
   "outputs": [
    {
     "name": "stdout",
     "output_type": "stream",
     "text": [
      "乘方 8 \n",
      "整除 1.3333333333333333 \n",
      "取模 2\n"
     ]
    }
   ],
   "source": [
    "print('乘方', 2**3,'\\n'\n",
    "      '整除', 8/6, '\\n'\n",
    "      '取模', 8%6)"
   ]
  },
  {
   "cell_type": "markdown",
   "metadata": {},
   "source": [
    "这些运算操作的优先级和数学中类似，可以通过 `()` 来改变运算操作的优先级。"
   ]
  },
  {
   "cell_type": "code",
   "execution_count": 3,
   "metadata": {},
   "outputs": [
    {
     "name": "stdout",
     "output_type": "stream",
     "text": [
      "20\n",
      "30\n"
     ]
    }
   ],
   "source": [
    "print(2 + 3 * 6)\n",
    "print((2 + 3) * 6)"
   ]
  },
  {
   "cell_type": "markdown",
   "metadata": {},
   "source": [
    "还有一些相对复杂的二目运算符，比如 `+=`, `-=`, `*=`, `/=`, `**=`, `//=`，对于入门小白来说还是尽量使用单目运算符更为简洁清晰。\n",
    "\n",
    "比如 `x += y`，代表的含义是 `x = x + y`。其余是类似的。"
   ]
  },
  {
   "cell_type": "code",
   "execution_count": 44,
   "metadata": {},
   "outputs": [
    {
     "name": "stdout",
     "output_type": "stream",
     "text": [
      "8\n"
     ]
    }
   ],
   "source": [
    "x , y= 2 , 3\n",
    "x **= y  # 代表 x = x^y\n",
    "print(x)"
   ]
  },
  {
   "cell_type": "markdown",
   "metadata": {},
   "source": [
    "## 2.2 基本数据类型\n",
    "Python 中的变量不需要声明。每个变量在使用前都必须赋值，变量赋值以后该变量才会被创建。我们所说的“类型”就是变量所指的内存中对象的类型。\n",
    "\n",
    "Python3 中**常见**的数据类型有：\n",
    "- Number （数字）\n",
    "- String （字符串）\n",
    "- Bool （布尔类型）\n",
    "- List （列表）\n",
    "- Tuple （元组）\n",
    "- Set （集合）\n",
    "- Dictionary （字典）\n",
    "\n",
    "这些数据类型我们都会逐个介绍，本节先介绍**数字**，**字符串**，**布尔类型**三种最常见的简单数据类型。"
   ]
  },
  {
   "cell_type": "markdown",
   "metadata": {},
   "source": [
    "### 2.2.1 Number 数字\n",
    "Python3 支持以下几种数字类型：\n",
    "- int，整数类型\n",
    "- float，浮点数类型（就是带有小数点的数）\n",
    "- bool，布尔类型（这里需要注意一点，Python3 中 bool 是 int 的子类，`True` 和 `False` 可以和数字相加，它们分别代表 `1` 和 `0`）\n",
    "- complex，复数类型（复数单位用 `j` 表示，它满足 $j^2 = -1$）。\n",
    "\n",
    "可以用内置的 `type()` 查看类型，也可以用 `isinstance` 来判断。\n",
    "\n",
    "对于一些较大的数或者较小的数，也可以利用科学计数法表示，比如 $1.23*10^8$ 可以用 `1.23e8` 表示，$6.7 * 10^{-10}$ 可以用 `6.7e-10` 表示。"
   ]
  },
  {
   "cell_type": "code",
   "execution_count": 4,
   "metadata": {},
   "outputs": [
    {
     "name": "stdout",
     "output_type": "stream",
     "text": [
      "<class 'int'> <class 'float'> <class 'float'> <class 'complex'> <class 'complex'>\n"
     ]
    }
   ],
   "source": [
    "print(type(-2),\n",
    "      type(0.0), # 注意区分 0.0 和 0，前者是浮点数，后者是整数\n",
    "      type(1.25),\n",
    "      type(3 + 1j), # 需要注意 + j是不合法的，需要使用 + 1j\n",
    "      type(3 + 3j)) "
   ]
  },
  {
   "cell_type": "markdown",
   "metadata": {},
   "source": [
    "复数相乘\n",
    "$$\n",
    "(a+ b j) \\times(c+dj) = ac +ad j+ bcj + bdj^2 = (ac -bd) + (ad +bc)j\n",
    "$$\n",
    "\n",
    "复数相除\n",
    "$$\n",
    "\\frac{a+bj}{c+dj} = \\frac{(a+bj)(c-dj)}{(c+dj)(c-dj)} = \\frac{(ac+bd)+(-ad+bc)j}{c^2+d^2}= \\frac{ac+bd}{c^2+d^2} + \\frac{bc-ad}{c^2+d^2} j\n",
    "$$"
   ]
  },
  {
   "cell_type": "code",
   "execution_count": 9,
   "metadata": {},
   "outputs": [
    {
     "name": "stdout",
     "output_type": "stream",
     "text": [
      "复数相乘 (-1+3j) \n",
      "复数相除 (0.4588235294117647-0.035294117647058844j)\n"
     ]
    }
   ],
   "source": [
    "print('复数相乘',(1+1j) * (1+2j),'\\n'\n",
    "      '复数相除',(3+3j) / (6+7j))"
   ]
  },
  {
   "cell_type": "code",
   "execution_count": 10,
   "metadata": {},
   "outputs": [
    {
     "name": "stdout",
     "output_type": "stream",
     "text": [
      "True\n",
      "3\n",
      "0\n"
     ]
    }
   ],
   "source": [
    "print(True)\n",
    "print(True + 2)\n",
    "print(False * 5)"
   ]
  },
  {
   "cell_type": "code",
   "execution_count": 13,
   "metadata": {},
   "outputs": [
    {
     "name": "stdout",
     "output_type": "stream",
     "text": [
      "True\n",
      "True\n"
     ]
    }
   ],
   "source": [
    "print(isinstance(True,(int)))\n",
    "print(isinstance(False,(int)))"
   ]
  },
  {
   "cell_type": "code",
   "execution_count": 15,
   "metadata": {},
   "outputs": [
    {
     "name": "stdout",
     "output_type": "stream",
     "text": [
      "123000000.0 \n",
      " 6.7e-06 \t 123\n",
      "\u0007\n"
     ]
    }
   ],
   "source": [
    "print(1.23e8,'\\n',0.67e-5,'\\t',123)"
   ]
  },
  {
   "cell_type": "markdown",
   "metadata": {},
   "source": [
    "### 2.2.2 String 字符串\n",
    "Python 也可以有文本值，称为字符串，用单引号和双引号括起来均可，对于一些特殊字符需要用反斜杠 `\\` 来转义。\n",
    "\n",
    "多个字符串可以通过 `+` 进行连接，也可以对一个字符串通过 `*` 进行复制。\n",
    "\n",
    "注意字符串和数字是不能相加的。"
   ]
  },
  {
   "cell_type": "code",
   "execution_count": 21,
   "metadata": {},
   "outputs": [
    {
     "data": {
      "text/plain": [
       "('Hello world', '666', '你好')"
      ]
     },
     "execution_count": 21,
     "metadata": {},
     "output_type": "execute_result"
    }
   ],
   "source": [
    "a = 'Hello world'\n",
    "b = '666'\n",
    "c = '你好'\n",
    "\n",
    "a,b,c"
   ]
  },
  {
   "cell_type": "code",
   "execution_count": 24,
   "metadata": {},
   "outputs": [
    {
     "name": "stdout",
     "output_type": "stream",
     "text": [
      "Hello world666\n",
      "Hello world 666\n",
      "Hello world 666\n",
      "666666666666666\n"
     ]
    }
   ],
   "source": [
    "print(a + b)\n",
    "print(a + ' ' + b)\n",
    "print(a,b)\n",
    "print(b*5)"
   ]
  },
  {
   "cell_type": "code",
   "execution_count": 1,
   "metadata": {},
   "outputs": [
    {
     "ename": "SyntaxError",
     "evalue": "unterminated string literal (detected at line 1) (3949126569.py, line 1)",
     "output_type": "error",
     "traceback": [
      "\u001b[1;36m  Cell \u001b[1;32mIn[1], line 1\u001b[1;36m\u001b[0m\n\u001b[1;33m    d = 'I'm \"OK\"!'\u001b[0m\n\u001b[1;37m                  ^\u001b[0m\n\u001b[1;31mSyntaxError\u001b[0m\u001b[1;31m:\u001b[0m unterminated string literal (detected at line 1)\n"
     ]
    }
   ],
   "source": [
    "d = 'I'm \"OK\"!'"
   ]
  },
  {
   "cell_type": "code",
   "execution_count": 26,
   "metadata": {},
   "outputs": [
    {
     "name": "stdout",
     "output_type": "stream",
     "text": [
      "I'm \"OK\"!\n",
      "I\\'m \\\"OK\\\"!\n"
     ]
    },
    {
     "data": {
      "text/plain": [
       "'I\\'m \"OK\"!'"
      ]
     },
     "execution_count": 26,
     "metadata": {},
     "output_type": "execute_result"
    }
   ],
   "source": [
    "d = 'I\\'m \\\"OK\\\"!'\n",
    "\n",
    "# 注意区分以下三者\n",
    "print(d)\n",
    "print(r'I\\'m \\\"OK\\\"!') # 加 r 表示默认不转义\n",
    "d"
   ]
  },
  {
   "cell_type": "markdown",
   "metadata": {},
   "source": [
    "允许用 `'''...'''` 的格式表示多行内容"
   ]
  },
  {
   "cell_type": "code",
   "execution_count": 28,
   "metadata": {},
   "outputs": [
    {
     "name": "stdout",
     "output_type": "stream",
     "text": [
      "line1\n",
      "line2\n",
      "line3\n"
     ]
    }
   ],
   "source": [
    "print('''line1\n",
    "... line2\n",
    "... line3''')"
   ]
  },
  {
   "cell_type": "markdown",
   "metadata": {},
   "source": [
    "当我们命名了一个字符串后，如何截取字符串的其中部分片段呢？\n",
    "\n",
    "可以通过字符串后方括号 `[]` 中加入整数来截取字符串中特定位置的字符，这里的整数代表需要访问字符的位置。这种形式称为**索引**。\n",
    "\n",
    "但如果我们需要截取的是一个片段，最基本的截取方式语法如下：`variable[start:end]`，注意索引值以 0 为开始值，以 -1 为末尾的开始值。省略开始索引，默认值为 0 ，省略结束索引时，默认到字符串的结尾。\n",
    "\n",
    "还可以这样理解切片，索引指向的是字符**之间** ，第一个字符的左侧标为 0，最后一个字符的右侧标为 n ，n 是字符串长度。例如：\n",
    "```\n",
    " +---+---+---+---+---+---+\n",
    " | P | y | t | h | o | n |\n",
    " +---+---+---+---+---+---+\n",
    " 0   1   2   3   4   5   6\n",
    "-6  -5  -4  -3  -2  -1\n",
    "```\n",
    "\n",
    "但实际上这还能玩出花来，具体请见以下的实例。"
   ]
  },
  {
   "cell_type": "code",
   "execution_count": 45,
   "metadata": {},
   "outputs": [
    {
     "name": "stdout",
     "output_type": "stream",
     "text": [
      "ABCDEFGHIJKLMNOPQRSTUVWXYZ\n",
      "ABCDEFGHIJKLMNOPQRSTUVWXY\n",
      "A\n",
      "DE\n",
      "DEFGHIJKLMNOPQRSTUVWXYZ\n",
      "ABCDEFGHIJKLMNOPQRSTUVW\n",
      "ACEGI\n",
      "ACEGIKMOQSUWY\n",
      "ZYXWVUTSRQPONMLKJIHGFEDCBA\n"
     ]
    }
   ],
   "source": [
    "a = 'ABCDEFGHIJKLMNOPQRSTUVWXYZ'\n",
    "\n",
    "# 打印整个字符\n",
    "print(a)          \n",
    "# 打印字符串第一个到倒数第二个字符（不包含倒数第一个）\n",
    "print(a[0:-1])    \n",
    " # 打印字符串第一个字符\n",
    "print(a[0])       \n",
    "# 打印字符串第四个到第五个字符（不包含第六个）\n",
    "print(a[3:5])     \n",
    "# 打印字符串从第四个直到最后一个\n",
    "print(a[3:])      \n",
    "# 打印字符串从第一个到倒数第四个字符（不包含倒数第三个）\n",
    "print(a[:-3])     \n",
    "# 打印字符串从第一个到第十个字符（不包含第十一个），但每间隔两个取 \n",
    "print(a[0:10:2])  \n",
    "# 打印字符串每间隔两个取，从第一个字符直到最后一个\n",
    "print(a[0::2])    \n",
    "# 打印字符串每间隔一个取，但从最后一个开始打印（起始就相当于倒序打印）\n",
    "print(a[-1::-1])\n"
   ]
  },
  {
   "cell_type": "markdown",
   "metadata": {},
   "source": [
    "<div class=\"alert alert-block alert-danger\"> <b>注意：</b>Python 的字符串不能修改，因此为字符串中某个索引位置赋值会报错。如果想生成不同的字符串，应该新建一个字符串。</div>"
   ]
  },
  {
   "cell_type": "code",
   "execution_count": 46,
   "metadata": {},
   "outputs": [
    {
     "name": "stdout",
     "output_type": "stream",
     "text": [
      "ABCdEFGHIJKLMNOPQRSTUVWXYZ\n"
     ]
    }
   ],
   "source": [
    "a = 'ABCDEFGHIJKLMNOPQRSTUVWXYZ'\n",
    "print(a[0:3] +'d' +a[4:])"
   ]
  },
  {
   "cell_type": "code",
   "execution_count": 8,
   "metadata": {},
   "outputs": [
    {
     "data": {
      "text/plain": [
       "26"
      ]
     },
     "execution_count": 8,
     "metadata": {},
     "output_type": "execute_result"
    }
   ],
   "source": [
    "len(a) # len() 函数返回字符串的长度"
   ]
  },
  {
   "cell_type": "markdown",
   "metadata": {},
   "source": [
    "### 2.2.3 Bool 布尔类型\n",
    "布尔类型即 `True` 和 `False` （注意大小写），在前面介绍数字类型时我们涉及到了一点点。\n",
    "\n",
    "布尔类型可以用来控制程序流程，比如判断某个条件是否成立，或者在某个条件满足时执行某段代码。在 Python 中可以直接用 `True` 和 `False` 来表示布尔值，也可以通过比较操作符计算出来。"
   ]
  },
  {
   "cell_type": "code",
   "execution_count": 85,
   "metadata": {},
   "outputs": [
    {
     "name": "stdout",
     "output_type": "stream",
     "text": [
      "False True True\n"
     ]
    }
   ],
   "source": [
    "# 比较操作符\n",
    "print(1==2,3>2, 6!=5)"
   ]
  },
  {
   "cell_type": "markdown",
   "metadata": {},
   "source": [
    "布尔类型可以通过 `and`, `or` 和 `not` 进行逻辑运算，它们分别代表与、或、非。"
   ]
  },
  {
   "cell_type": "code",
   "execution_count": 86,
   "metadata": {},
   "outputs": [
    {
     "name": "stdout",
     "output_type": "stream",
     "text": [
      "False\n",
      "True\n",
      "True\n"
     ]
    }
   ],
   "source": [
    "print(True and False)\n",
    "print(True or False)\n",
    "print(not 2>3)"
   ]
  },
  {
   "cell_type": "markdown",
   "metadata": {},
   "source": [
    "### 2.2.4 数据类型转换\n",
    "数据类型转换分为隐式和显式两种形式，前者自动完成，后者需要使用类型函数进行转换。\n",
    "\n",
    "比如一个整数和一个浮点数相加时，会自动将前者转换为浮点数类型，这是隐式的。\n",
    "\n",
    "在显示类型转换中，我们可以使用 `int()`, `float()`, `str()` 等内置函数进行转换。更多地，如 `complex()` 可以创建一个复数，`list()` 将序列转为列表，`hex()` 将一个整数转换为十六进制字符串…………\n",
    "\n",
    "注意 `bool()` 对于所有非零的数返回的都是 True，只有 0 才会返回 False。"
   ]
  },
  {
   "cell_type": "code",
   "execution_count": 87,
   "metadata": {},
   "outputs": [
    {
     "name": "stdout",
     "output_type": "stream",
     "text": [
      "<class 'int'>\n",
      "<class 'float'>\n"
     ]
    }
   ],
   "source": [
    "num_int = 123\n",
    "num_flo = 1.23\n",
    "\n",
    "print(type(num_int))\n",
    "\n",
    "num_new = num_int + num_flo\n",
    "print(type(num_new))"
   ]
  },
  {
   "cell_type": "code",
   "execution_count": 91,
   "metadata": {},
   "outputs": [
    {
     "name": "stdout",
     "output_type": "stream",
     "text": [
      "<class 'int'> <class 'float'> <class 'str'>\n"
     ]
    }
   ],
   "source": [
    "print(type(int(1.0)),\n",
    "      type(float('3')),\n",
    "      type(str(2)))"
   ]
  },
  {
   "cell_type": "markdown",
   "metadata": {},
   "source": [
    "## 2.3 变量与赋值\n",
    "变量的概念和小学初中学习过得代数的方程变量是一致的，只是在计算机程序中，变量不仅可以是数字，还可以是任意数据类型。\n",
    "\n",
    "### 2.3.1 变量\n",
    "变量命名需要遵守以下 3 条规则：\n",
    "1. 只能是一个词；\n",
    "2. 只能包含字母、数字和下划线；\n",
    "3. 不能以数字开头。\n",
    "\n",
    "比如 `current-balance`, `4account`, `total_&um`, `'hello'`, `hello world` 都是不合法的变量名。另外变量名是区分大小写的，`spam`, `SPAM`, `Spam`, `sPaM` 是4个不同的变量。变量用小写字母开头是 Python 的惯例。\n",
    "\n",
    "这里额外强调一点，在你的程序代码里使用描述性语言对变量进行命名，会提高代码的可读性，尽量不要使用 `a`, `b` 等比较空洞、无实际指向的命名（除非它们无关紧要）。比如我需要统计一个箱子里红色球、黑色球的个数，我可以将它们命名为 `red_ball`, `black_ball`。\n",
    "\n",
    "### 2.3.2 赋值语句\n",
    "赋值语句就是将值保存在变量中。赋值语句的语法通常是`variable_name = value`，Python 中也支持同时对多个变量进行赋值。"
   ]
  },
  {
   "cell_type": "code",
   "execution_count": 47,
   "metadata": {},
   "outputs": [
    {
     "name": "stdout",
     "output_type": "stream",
     "text": [
      "12\n"
     ]
    }
   ],
   "source": [
    "# 注意体会以下几个例子\n",
    "x = 10\n",
    "x = x+2\n",
    "print(x)"
   ]
  },
  {
   "cell_type": "code",
   "execution_count": 49,
   "metadata": {},
   "outputs": [
    {
     "name": "stdout",
     "output_type": "stream",
     "text": [
      "ABC\n"
     ]
    }
   ],
   "source": [
    "a = 'ABC'\n",
    "b = a\n",
    "a = 'XYZ'\n",
    "print(b)"
   ]
  },
  {
   "cell_type": "code",
   "execution_count": 50,
   "metadata": {},
   "outputs": [
    {
     "data": {
      "text/plain": [
       "(12, 'Hello', True)"
      ]
     },
     "execution_count": 50,
     "metadata": {},
     "output_type": "execute_result"
    }
   ],
   "source": [
    "# 多重赋值\n",
    "a , b, c = 12 , 'Hello' ,True\n",
    "\n",
    "a,b,c"
   ]
  },
  {
   "cell_type": "markdown",
   "metadata": {},
   "source": [
    "Python 标准库提供了 keyword 模块，可以输出当前版本的所有关键字。它们不能作为变量进行赋值。\n",
    "\n",
    "另外请尽量不要对 Python 内置的函数进行赋值，比如 `print` 函数。（你也不想 print 打印时候出来一个 print 的赋值结果吧？）"
   ]
  },
  {
   "cell_type": "code",
   "execution_count": 98,
   "metadata": {},
   "outputs": [
    {
     "name": "stdout",
     "output_type": "stream",
     "text": [
      "['False', 'None', 'True', 'and', 'as', 'assert', 'async', 'await', 'break', 'class', 'continue', 'def', 'del', 'elif', 'else', 'except', 'finally', 'for', 'from', 'global', 'if', 'import', 'in', 'is', 'lambda', 'nonlocal', 'not', 'or', 'pass', 'raise', 'return', 'try', 'while', 'with', 'yield']\n"
     ]
    }
   ],
   "source": [
    "import keyword\n",
    "print(keyword.kwlist)"
   ]
  },
  {
   "cell_type": "markdown",
   "metadata": {},
   "source": [
    "## 2.4 本节相关的常用内置函数"
   ]
  },
  {
   "cell_type": "markdown",
   "metadata": {},
   "source": [
    "### 2.4.1 格式化输出\n",
    "\n",
    "Python 支持格式化输出，利用占位符 `%` 来表示不同格式化类型，常见的有：\n",
    "- `%s`, 格式化字符串\n",
    "- `%d`, 格式化整数\n",
    "- `%f`, 格式化浮点数\n",
    "- `%e`, 用科学计数法格式化浮点数\n",
    "\n",
    "格式化输出可以用来美化输出结果，且可以用在输出内容依据变量变化的时候，请见以下的例子"
   ]
  },
  {
   "cell_type": "code",
   "execution_count": 51,
   "metadata": {},
   "outputs": [
    {
     "name": "stdout",
     "output_type": "stream",
     "text": [
      "David 今年已经 20 岁了。\n"
     ]
    }
   ],
   "source": [
    "name = 'David'\n",
    "age = 20\n",
    "print('%s 今年已经 %d 岁了。'% (name,age))"
   ]
  },
  {
   "cell_type": "code",
   "execution_count": 52,
   "metadata": {},
   "outputs": [
    {
     "name": "stdout",
     "output_type": "stream",
     "text": [
      "3.212300 * 4.545600 = 14.60\n"
     ]
    }
   ],
   "source": [
    "a , b = 3.2123, 4.5456\n",
    "print('%f * %f = %.2f' %(a, b, a*b))"
   ]
  },
  {
   "cell_type": "markdown",
   "metadata": {},
   "source": [
    "Python 自 2.6 版本开始，新增了一种格式化字符串的方法 `str.format()`， 基本语法是通过 `{}` 和 `:` 来代替以前的 `%`。 `str.format()` 方法可以接受不限个参数，位置可以不按顺序。请见以下示例："
   ]
  },
  {
   "cell_type": "code",
   "execution_count": 53,
   "metadata": {},
   "outputs": [
    {
     "name": "stdout",
     "output_type": "stream",
     "text": [
      "David 今年已经 20 岁了。\n",
      "David 今年已经 20 岁了。\n",
      "David 今年已经 20 岁了。\n"
     ]
    }
   ],
   "source": [
    "name = 'David'\n",
    "age = 20\n",
    "print('{} 今年已经 {} 岁了。'.format(name,age))   \n",
    "print('{1} 今年已经 {0} 岁了。'.format(age,name)) \n",
    "print('{name} 今年已经 {age} 岁了。'.format(name='David',age=20))"
   ]
  },
  {
   "cell_type": "markdown",
   "metadata": {},
   "source": [
    "也可以在 `{}` 内添加格式说明符，另外通过 `{:^X}`，`{:<X}`，`{:>X}` 可以分别设置居中、居左、居右输出，其中 X 代表所占宽度。"
   ]
  },
  {
   "cell_type": "code",
   "execution_count": 54,
   "metadata": {},
   "outputs": [
    {
     "name": "stdout",
     "output_type": "stream",
     "text": [
      "+++123++++\n",
      "-------str\n",
      "3.141*****\n"
     ]
    }
   ],
   "source": [
    "print('{:+^10}'.format(123))\n",
    "print('{:->10}'.format('str'))\n",
    "print('{:*<10}'.format(3.141))"
   ]
  },
  {
   "cell_type": "code",
   "execution_count": 55,
   "metadata": {},
   "outputs": [
    {
     "name": "stdout",
     "output_type": "stream",
     "text": [
      "6.67e+08\n"
     ]
    }
   ],
   "source": [
    "print('{:.2e}'.format(666600000))"
   ]
  },
  {
   "cell_type": "markdown",
   "metadata": {},
   "source": [
    "格式化字符串字面值（简称为 f-字符串）是 Python 3.6 引入的一种新的字符串格式化方式。在字符串前加前缀 `f` 或 `F`，通过 `{expression}` 表达式，把 Python 表达式的值添加到字符串内，其中格式说明符是可选的，写在表达式后面。"
   ]
  },
  {
   "cell_type": "code",
   "execution_count": 56,
   "metadata": {},
   "outputs": [
    {
     "name": "stdout",
     "output_type": "stream",
     "text": [
      "Results of the 2016 Referendum\n",
      "DAVID\n"
     ]
    }
   ],
   "source": [
    "year = 2016\n",
    "event = 'Referendum'\n",
    "print(f'Results of the {year} {event}')\n",
    "print(f'{name.upper()}')"
   ]
  },
  {
   "cell_type": "code",
   "execution_count": 57,
   "metadata": {},
   "outputs": [
    {
     "name": "stdout",
     "output_type": "stream",
     "text": [
      "圆周率的近似值是 3.142.\n"
     ]
    }
   ],
   "source": [
    "import math\n",
    "print(f'圆周率的近似值是 {math.pi:.3f}.')"
   ]
  },
  {
   "cell_type": "code",
   "execution_count": 58,
   "metadata": {},
   "outputs": [
    {
     "name": "stdout",
     "output_type": "stream",
     "text": [
      "   3.14   \n",
      "     3.142\n",
      "3.1416    \n"
     ]
    }
   ],
   "source": [
    "print(f'{math.pi:^10.2f}')\n",
    "print(f'{math.pi:>10.3f}')\n",
    "print(f'{math.pi:<10.4f}')"
   ]
  },
  {
   "cell_type": "code",
   "execution_count": 59,
   "metadata": {},
   "outputs": [
    {
     "name": "stdout",
     "output_type": "stream",
     "text": [
      "+++3.14+++\n",
      "-----3.142\n",
      "3.1416****\n"
     ]
    }
   ],
   "source": [
    "print(f'{math.pi:+^10.2f}')\n",
    "print(f'{math.pi:->10.3f}')\n",
    "print(f'{math.pi:*<10.4f}')"
   ]
  },
  {
   "cell_type": "markdown",
   "metadata": {},
   "source": [
    "### 2.4.2 数字相关函数\n",
    "这里介绍一些常用的内置的函数，比如数学运算并不止加、减、乘、除、乘方、求模等操作，还有一些数学函数等内置函数。注意别忘了导入 `math` 库。\n",
    "\n",
    "具体地有：\n",
    "- `abs(x)`, 返回 x 的绝对值\n",
    "- `ceil(x)`, 返回 x 的向上取整\n",
    "- `floor(x)`, 返回 x 的向下取整\n",
    "- `round(x [,n])`, 返回 x 的四舍五入值，n 若给出则代表舍入到小数点后的位数。\n",
    "- `exp(x)`, 返回 $\\mathrm{e}^{x}$\n",
    "- `log(x)`, 返回 $\\ln(x)$\n",
    "- `log10(x)`, 返回 $\\log_{10}(x)$\n",
    "- `max(x1,x2,...)`, 返回其中的最大值\n",
    "- `min(x1,x2,...)`, 返回其中的最小值\n",
    "- `sqrt(x)`, 返回 $\\sqrt{x}$\n",
    "\n",
    "还有三角函数相关的：\n",
    "- `acos(x)`, `asin(x)`, `atan(x)`, 分别返回 $\\arccos{x},\\arcsin{x},\\arctan{x}$\n",
    "- `sin(x)`, `cos(x)`, `tan(x)`, 分别返回 $\\sin{x},\\cos{x},\\tan{x}$\n",
    "- `degrees(x)`, 将弧度转化为角度\n",
    "- `radians(x)`, 将角度转化为弧度"
   ]
  },
  {
   "cell_type": "code",
   "execution_count": 119,
   "metadata": {},
   "outputs": [],
   "source": [
    "import math"
   ]
  },
  {
   "cell_type": "code",
   "execution_count": 123,
   "metadata": {
    "scrolled": true
   },
   "outputs": [
    {
     "name": "stdout",
     "output_type": "stream",
     "text": [
      "3.2 \n",
      " 4 \n",
      " 3 \n",
      " 3.142 \n",
      " 2.718281828459045 \n",
      " 1.0 \n",
      " 2.0 \n",
      " 5 \n",
      " 1 \n",
      " 2.0\n"
     ]
    }
   ],
   "source": [
    "print(abs(-3.2),'\\n',\n",
    "      math.ceil(3.5),'\\n',\n",
    "      math.floor(3.5),'\\n',\n",
    "      round(3.1415926,3),'\\n',\n",
    "      math.exp(1),'\\n',\n",
    "      math.log(math.e),'\\n',\n",
    "      math.log10(100),'\\n',\n",
    "      max(1,2,3,5),'\\n',\n",
    "      min(1,2,3,5),'\\n',\n",
    "      math.sqrt(4)\n",
    "      )"
   ]
  },
  {
   "cell_type": "code",
   "execution_count": 124,
   "metadata": {},
   "outputs": [
    {
     "data": {
      "text/plain": [
       "(0.49999999999999994, -1.0, 1.633123935319537e+16)"
      ]
     },
     "execution_count": 124,
     "metadata": {},
     "output_type": "execute_result"
    }
   ],
   "source": [
    "math.sin(math.pi/6), math.cos(math.pi), math.tan(math.pi/2)"
   ]
  },
  {
   "cell_type": "markdown",
   "metadata": {},
   "source": [
    "### 2.4.3 字符串相关函数\n",
    "可以用 `in` 和 `not in` 来判断字符串中是否含有指定字符"
   ]
  },
  {
   "cell_type": "code",
   "execution_count": 60,
   "metadata": {},
   "outputs": [
    {
     "name": "stdout",
     "output_type": "stream",
     "text": [
      "True\n",
      "False\n"
     ]
    }
   ],
   "source": [
    "print('py' in 'python')\n",
    "print('thon' not in 'python')"
   ]
  },
  {
   "cell_type": "markdown",
   "metadata": {},
   "source": [
    "还有一些函数和方法，如\n",
    "\n",
    "- `capitalize()`, 将字符串第一个字符转换为大写\n",
    "- `find(str,beg=0,end=len(string))`, 检测 str 是否包含在字符串中\n",
    "- `join(str)`, 以指定字符串为分隔符，将 str 中所有的元素合并为一个新的字符串\n",
    "- `len(str)`, 返回 str 的长度\n",
    "- `lower(str)`, 将 str 中的所有大写转换为小写\n",
    "- `lstrip()`, 截掉 str 左边的空格或者指定字符\n",
    "- `replace(old,new[,max])`, 将字符串中的 old 替换成 new，如果 max 指定，则替换不超过 max 次\n",
    "- `rstrip()`, 删除字符串末尾的空格或者指定字符\n",
    "- `upper()`，转换字符串中的小写字母为大写"
   ]
  },
  {
   "cell_type": "code",
   "execution_count": 61,
   "metadata": {},
   "outputs": [
    {
     "name": "stdout",
     "output_type": "stream",
     "text": [
      "Python\n",
      "Python\n"
     ]
    }
   ],
   "source": [
    "print('python'.replace('p','P'))\n",
    "print('python'.capitalize())"
   ]
  },
  {
   "cell_type": "code",
   "execution_count": 62,
   "metadata": {},
   "outputs": [
    {
     "name": "stdout",
     "output_type": "stream",
     "text": [
      "r*u*n*o*o*b\n",
      "runoob\n"
     ]
    },
    {
     "data": {
      "text/plain": [
       "tuple"
      ]
     },
     "execution_count": 62,
     "metadata": {},
     "output_type": "execute_result"
    }
   ],
   "source": [
    "s1 = \"*\"\n",
    "s2 = \"\"\n",
    "seq = (\"r\", \"u\", \"n\", \"o\", \"o\", \"b\") # 字符串序列\n",
    "print (s1.join( seq ))\n",
    "print (s2.join( seq ))\n",
    "\n",
    "type(seq)"
   ]
  },
  {
   "cell_type": "markdown",
   "metadata": {},
   "source": [
    "## 2.5 References\n",
    "- [1] [Python 官方手册（中文）](https://docs.python.org/zh-cn/3/)\n",
    "- [2] [Python 官方手册（英文）](https://docs.python.org/3/)\n",
    "- [3] [Python 3 教程 - 菜鸟教程](https://www.runoob.com/python3/python3-tutorial.html)\n",
    "- [4] [廖雪峰的 Python 教程](https://www.liaoxuefeng.com/wiki/1016959663602400)\n",
    "- [5] [Python - 100天从新手到大师](https://github.com/jackfrued/Python-100-Days/tree/master)\n",
    "- [6] Eric Matthes.《Python编程 - 从入门到实践（第二版）》（袁国忠译）. 人民邮电出版社\n",
    "- [7] Al Sweigart.《Python编程 - 快速上手 -- 让繁琐工作自动化》（王海鹏译）. 人民邮电出版社"
   ]
  }
 ],
 "metadata": {
  "kernelspec": {
   "display_name": "Python 3 (ipykernel)",
   "language": "python",
   "name": "python3"
  },
  "language_info": {
   "codemirror_mode": {
    "name": "ipython",
    "version": 3
   },
   "file_extension": ".py",
   "mimetype": "text/x-python",
   "name": "python",
   "nbconvert_exporter": "python",
   "pygments_lexer": "ipython3",
   "version": "3.11.7"
  },
  "toc": {
   "base_numbering": 1,
   "nav_menu": {
    "height": "475px",
    "width": "294px"
   },
   "number_sections": true,
   "sideBar": true,
   "skip_h1_title": false,
   "title_cell": "Table of Contents",
   "title_sidebar": "Contents",
   "toc_cell": false,
   "toc_position": {
    "height": "calc(100% - 180px)",
    "left": "10px",
    "top": "150px",
    "width": "272px"
   },
   "toc_section_display": true,
   "toc_window_display": false
  },
  "varInspector": {
   "cols": {
    "lenName": 16,
    "lenType": 16,
    "lenVar": 40
   },
   "kernels_config": {
    "python": {
     "delete_cmd_postfix": "",
     "delete_cmd_prefix": "del ",
     "library": "var_list.py",
     "varRefreshCmd": "print(var_dic_list())"
    },
    "r": {
     "delete_cmd_postfix": ") ",
     "delete_cmd_prefix": "rm(",
     "library": "var_list.r",
     "varRefreshCmd": "cat(var_dic_list()) "
    }
   },
   "types_to_exclude": [
    "module",
    "function",
    "builtin_function_or_method",
    "instance",
    "_Feature"
   ],
   "window_display": false
  }
 },
 "nbformat": 4,
 "nbformat_minor": 4
}
