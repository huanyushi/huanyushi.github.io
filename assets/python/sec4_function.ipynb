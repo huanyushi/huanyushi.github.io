{
 "cells": [
  {
   "cell_type": "markdown",
   "metadata": {},
   "source": [
    "# 4. 函数\n",
    "\n",
    "在之前，我们已经遇到了许多 Python 提供的内建函数，比如 `print()`, `input()`, `len()` 等。我们也可以编写自己的函数，实现自己想要的特定功能。函数就像一个程序内的小程序，利用好函数可以提高应用的模块性，和代码的重复利用率。"
   ]
  },
  {
   "cell_type": "markdown",
   "metadata": {},
   "source": [
    "## 4.1 函数的定义\n",
    "在 Python 里我们定义函数需要使用 `def` 关键字，一般格式如下：\n",
    "```python\n",
    "def function_name (argument1, argument2, ...):\n",
    "    <action>\n",
    "```\n",
    "\n",
    "基本规则如下：\n",
    "- 函数代码块以 `def` 关键字开头，后接函数标识符名称（定义函数的名字）和圆括号`()`；\n",
    "- 任何传入参数和自变量必须放在圆括号中间，圆括号之间可以用于定义参数；\n",
    "- 函数的第一行语句可以选择性地使用文档字符串（用于存放函数说明）。\n",
    "- 函数内容以冒号 `:` 起始，并且需要缩进；\n",
    "- `return [expression]` 结束函数，选择性地返回一个值给调用方，不带表达式的 return 相当于返回 None. 当然 Python 函数也可以返回多个值。"
   ]
  },
  {
   "cell_type": "code",
   "execution_count": 4,
   "metadata": {},
   "outputs": [
    {
     "name": "stdout",
     "output_type": "stream",
     "text": [
      "Hello world!\n",
      "Hello world again!\n"
     ]
    }
   ],
   "source": [
    "# 一个简单的函数，用来打印 Hello world!\n",
    "def hello():\n",
    "    '''\n",
    "    这个代码用来打印 Hello world\n",
    "    '''\n",
    "    print('Hello world!')\n",
    "    print('Hello world again!')\n",
    "\n",
    "hello()"
   ]
  },
  {
   "cell_type": "code",
   "execution_count": 1,
   "metadata": {},
   "outputs": [
    {
     "name": "stdout",
     "output_type": "stream",
     "text": [
      "Hello Alice\n",
      "Hello Bob\n"
     ]
    }
   ],
   "source": [
    "# 给 hello 函数增加参数\n",
    "def hello(name):\n",
    "    print('Hello' , name)\n",
    "\n",
    "hello('Alice')\n",
    "hello('Bob')"
   ]
  },
  {
   "cell_type": "code",
   "execution_count": 6,
   "metadata": {},
   "outputs": [
    {
     "name": "stdout",
     "output_type": "stream",
     "text": [
      "3.14\n"
     ]
    }
   ],
   "source": [
    "# 比较两个数，并返回较大的数：\n",
    "def my_max(a,b): # 和 Python 内置的 max 函数区分开\n",
    "    if a > b:\n",
    "        return a\n",
    "    else:\n",
    "        return b\n",
    "    \n",
    "print(my_max(3,3.14))"
   ]
  },
  {
   "cell_type": "markdown",
   "metadata": {},
   "source": [
    "定义一个啥都不做的空函数，可以用 pass 语句。"
   ]
  },
  {
   "cell_type": "code",
   "execution_count": 1,
   "metadata": {},
   "outputs": [],
   "source": [
    "def nop():\n",
    "    pass"
   ]
  },
  {
   "cell_type": "markdown",
   "metadata": {},
   "source": [
    "既然 pass 语句啥都不干，那它有什么用？实际上 pass 可以用来作为占位符。比如现在还没想好怎么写函数的代码，就可以先放一个 pass，让代码能跑起来。\n",
    "\n",
    "当然 pass 也可以用在其他语句里，比如 if 语句，for 循环等。"
   ]
  },
  {
   "cell_type": "markdown",
   "metadata": {},
   "source": [
    "## 4.2 参数\n",
    "定义函数的时候，我们把参数的名字和位置确定下来，函数的接口定义就完成了。对于函数的调用者来说，只需要知道如何传递正确的参数，以及函数将返回什么样的值就够了，函数内部的复杂逻辑被封装起来，调用者无需了解内部代码是如何编写的。（实际上这也体现了调包的便捷性）\n",
    "\n",
    "Python 的函数定义非常简单，但灵活度却非常大。除了正常定义的必选参数外，还可以使用默认参数、可变参数和关键字参数，使得函数定义出来的接口，不但能处理复杂的参数，还可以简化调用者的代码。\n",
    "\n",
    "在 Python 中，调用函数时可以使用的正式参数类型有：\n",
    "- 必需参数\n",
    "- 关键字参数\n",
    "- 默认参数\n",
    "- 不定长参数"
   ]
  },
  {
   "cell_type": "markdown",
   "metadata": {},
   "source": [
    "### 4.2.1 必需参数\n",
    "必需参数必须以正确的顺序传入函数。调用时的数量必须和声明时的一样。例如，`random.randint(1,10)` 和 `random.randint(10,1)` 不同，前者返回 1 到 10 之间的一个随机整数，后者则会报错。这是因为 `random.randint()` 函数里，第一个参数是范围的下界，第二个参数是范围的上界。它们之间的位置不能交换。"
   ]
  },
  {
   "cell_type": "code",
   "execution_count": 8,
   "metadata": {},
   "outputs": [
    {
     "ename": "TypeError",
     "evalue": "my_print() missing 1 required positional argument: 'str'",
     "output_type": "error",
     "traceback": [
      "\u001b[1;31m---------------------------------------------------------------------------\u001b[0m",
      "\u001b[1;31mTypeError\u001b[0m                                 Traceback (most recent call last)",
      "Cell \u001b[1;32mIn[8], line 4\u001b[0m\n\u001b[0;32m      1\u001b[0m \u001b[38;5;28;01mdef\u001b[39;00m \u001b[38;5;21mmy_print\u001b[39m(\u001b[38;5;28mstr\u001b[39m):\n\u001b[0;32m      2\u001b[0m     \u001b[38;5;28mprint\u001b[39m(\u001b[38;5;28mstr\u001b[39m)\n\u001b[1;32m----> 4\u001b[0m my_print()\n",
      "\u001b[1;31mTypeError\u001b[0m: my_print() missing 1 required positional argument: 'str'"
     ]
    }
   ],
   "source": [
    "def my_print(str):\n",
    "    print(str)\n",
    "\n",
    "my_print() # 不加参数会报错，因为里面是必需参数"
   ]
  },
  {
   "cell_type": "markdown",
   "metadata": {},
   "source": [
    "### 4.2.2 关键字参数\n",
    "关键字参数是由函数调用时在它们前面的关键字来识别的。关键字参数通常用于可选变元。使用关键字参数允许函数调用时参数的顺序与声明时不一致，因为 Python 解释器能够用参数名匹配参数值。 \n",
    "\n",
    "例如 `print()` 函数有可选的变元 `end` 和 `sep`，分别指定在参数末尾打印什么，以及在参数之间打印什么来隔开它们。"
   ]
  },
  {
   "cell_type": "code",
   "execution_count": 14,
   "metadata": {},
   "outputs": [
    {
     "name": "stdout",
     "output_type": "stream",
     "text": [
      "HelloWorld\n"
     ]
    }
   ],
   "source": [
    "print('Hello',end='') # 使用 end 参数，在打印结束后打印空字符串\n",
    "print('World')"
   ]
  },
  {
   "cell_type": "markdown",
   "metadata": {},
   "source": [
    "在上面的例子中我们看到，两行代码打印的结果之间并没有换行。这是因为我们利用了 end 参数，将原本 `print()` 函数默认的 `end = '\\n'` 换行，替换成了 `end = ''`，这样就取消了每次打印之后换行的功能。"
   ]
  },
  {
   "cell_type": "code",
   "execution_count": 15,
   "metadata": {},
   "outputs": [
    {
     "name": "stdout",
     "output_type": "stream",
     "text": [
      "cats dogs mice\n",
      "cats,dogs,mice\n"
     ]
    }
   ],
   "source": [
    "print('cats','dogs','mice')\n",
    "\n",
    "print('cats','dogs','mice',sep=',') # 使用 sep 参数替换掉默认的分隔字符串"
   ]
  },
  {
   "cell_type": "markdown",
   "metadata": {},
   "source": [
    "当然也可以在我们编写的函数里添加关键字参数"
   ]
  },
  {
   "cell_type": "code",
   "execution_count": 18,
   "metadata": {},
   "outputs": [
    {
     "name": "stdout",
     "output_type": "stream",
     "text": [
      "名字:  小明\n",
      "年龄:  18\n",
      "名字:  小明\n",
      "年龄:  18\n"
     ]
    }
   ],
   "source": [
    "def info_print( name, age ):\n",
    "   print (\"名字: \", name)\n",
    "   print (\"年龄: \", age)\n",
    "   return\n",
    " \n",
    "# 两次打印结果一致，说明关键字参数使用时不需要指定顺序。\n",
    "info_print( age=18, name=\"小明\" )\n",
    "info_print( name='小明', age=18)"
   ]
  },
  {
   "cell_type": "markdown",
   "metadata": {},
   "source": [
    "### 4.2.3 默认参数\n",
    "调用函数时，如果没有传递参数，则会使用默认参数。默认参数的使用，可以简化函数的调用。\n",
    "\n",
    "<div class=\"alert alert-block alert-danger\"> <b>警告:</b> 设置参数时，一定要注意必需参数在前，默认参数在后，否则 Python 的解释器会报错。 </div>\n",
    "\n",
    "因为我们在调用函数时，没有默认值的参数（也就是必需参数）应该首先接收到对应的参数值。如果将默认参数放在必选参数之前，Python 无法判断我们提供的参数究竟是给谁的，所以会报错。"
   ]
  },
  {
   "cell_type": "code",
   "execution_count": 19,
   "metadata": {},
   "outputs": [
    {
     "name": "stdout",
     "output_type": "stream",
     "text": [
      "名字:  小明\n",
      "年龄:  30\n"
     ]
    }
   ],
   "source": [
    "def info_print( name, age = 30 ):\n",
    "   print (\"名字: \", name)\n",
    "   print (\"年龄: \", age)\n",
    "   return\n",
    " \n",
    "# 调用函数时没有传入 age 参数，因此使用默认值 30\n",
    "info_print( name='小明')"
   ]
  },
  {
   "cell_type": "markdown",
   "metadata": {},
   "source": [
    "### 4.2.4 不定长参数\n",
    "我们可能需要一个函数能处理比当初声明时更多的参数。这些参数叫做不定长参数，和前述参数不同，它在声明时不会命名。基本语法格式如下：\n",
    "\n",
    "```python\n",
    "def functionname([formal_args,] *var_args_tuple ):\n",
    "   \"函数_文档字符串\"\n",
    "   function_suite\n",
    "   return [expression]\n",
    "```\n",
    "\n",
    "其中加了星号 `*` 的参数会以元组 (tuple) 的形式导入，存放所有未命名的变量参数。"
   ]
  },
  {
   "cell_type": "code",
   "execution_count": 30,
   "metadata": {},
   "outputs": [
    {
     "name": "stdout",
     "output_type": "stream",
     "text": [
      "输出: \n",
      "70\n",
      "(60, 50, 'ASD')\n",
      "输出: \n",
      "10\n",
      "()\n"
     ]
    }
   ],
   "source": [
    "# 打印任何传入的参数\n",
    "def info_print( arg1, *vartuple ):\n",
    "   print (\"输出: \")\n",
    "   print (arg1)\n",
    "   print (vartuple)\n",
    " \n",
    "# 后三个参数都是未命名的变量参数\n",
    "info_print( 70, 60, 50 ,'ASD')\n",
    "# 也可以不向函数传递未命名的变量，此时的不定长参数就是一个空元组。\n",
    "info_print( 10 )"
   ]
  },
  {
   "cell_type": "code",
   "execution_count": 53,
   "metadata": {},
   "outputs": [
    {
     "name": "stdout",
     "output_type": "stream",
     "text": [
      "14\n",
      "540\n"
     ]
    }
   ],
   "source": [
    "# 计算多个数的求和\n",
    "def calc_sum(*numbers):\n",
    "    sum = 0\n",
    "    for n in numbers:\n",
    "        sum = sum + n * n\n",
    "    return sum\n",
    "\n",
    "print(calc_sum(1,2,3))\n",
    "print(calc_sum(1,5,9,12,17))"
   ]
  },
  {
   "cell_type": "markdown",
   "metadata": {},
   "source": [
    "还有一种就是参数带两个星号 `**`，基本语法格式如下：\n",
    "\n",
    "```python\n",
    "def functionname([formal_args,] **var_args_dict ):\n",
    "   function_suite\n",
    "   return [expression]\n",
    "```\n",
    "\n",
    "加了两个星号 `**` 的参数会以字典的形式导入。"
   ]
  },
  {
   "cell_type": "code",
   "execution_count": 31,
   "metadata": {},
   "outputs": [
    {
     "name": "stdout",
     "output_type": "stream",
     "text": [
      "输出: \n",
      "1\n",
      "{'a': 2, 'b': 3}\n"
     ]
    }
   ],
   "source": [
    "def info_print( arg1, **vardict ):\n",
    "   print (\"输出: \")\n",
    "   print (arg1)\n",
    "   print (vardict)\n",
    " \n",
    "info_print(1, a=2,b=3)"
   ]
  },
  {
   "cell_type": "markdown",
   "metadata": {},
   "source": [
    "### 4.2.5 参数传递\n",
    "在 Python 中，类型属于对象，对象有不同类型的区分，但变量是没有类型的。比如 `[1,2,3]` 是 List 类型，`\"ABC\"` 是 String 类型，但对于一个变量来说是没有类型的，它仅仅是对一个对象的引用（就像 C 语言的指针一样）。\n",
    "\n",
    "在 Python 中，字符串（string）、元组（tuple）和数（number）都是不可更改的对象，而列表（list）和字典（dictionary）则是可以修改的对象。\n",
    "\n",
    "Python 函数的参数传递分为可变和不可变两个类型：\n",
    "- **不可变类型：** 如 `function_name(a)`， 传递的只是 `a` 的值，没有影响 `a` 对象本身。如果在函数内部修改 `a` 的值，则是新生成一个 `a` 的对象；\n",
    "- **可变类型：** 如 `function_name(la)`，则是将 `la` 真正的传过去，修改后函数外部的 `la` 也会受影响。\n",
    "\n",
    "让我们看以下两个实例："
   ]
  },
  {
   "cell_type": "code",
   "execution_count": 33,
   "metadata": {},
   "outputs": [
    {
     "name": "stdout",
     "output_type": "stream",
     "text": [
      "140710768919336\n",
      "140710768919336\n",
      "140710768919624\n"
     ]
    }
   ],
   "source": [
    "# 传递不可变对象的例子\n",
    "def change(a):\n",
    "    print(id(a))   # 指向的是同一个对象\n",
    "    a=10\n",
    "    print(id(a))   # 一个新对象\n",
    " \n",
    "a=1\n",
    "print(id(a))\n",
    "change(a)"
   ]
  },
  {
   "cell_type": "markdown",
   "metadata": {},
   "source": [
    "- 形参指的是函数定义时用来接收传递给函数的值的参数；\n",
    "- 实参指的是函数调用时传递给函数的具体值或变量。实参是实际传递给函数的值，在函数调用时与形参相匹配。\n",
    "\n",
    "可以看见在调用函数前后，形参和实参指向的是同一个对象（对象 id 相同），在函数内部修改形参后，形参指向的是不同的 id。"
   ]
  },
  {
   "cell_type": "code",
   "execution_count": 35,
   "metadata": {},
   "outputs": [
    {
     "name": "stdout",
     "output_type": "stream",
     "text": [
      "函数内取值:  [10, 20, 30, [1, 2, 3, 4]]\n",
      "函数外取值:  [10, 20, 30, [1, 2, 3, 4]]\n"
     ]
    }
   ],
   "source": [
    "# 传递可变对象的例子\n",
    "def changeme( mylist ):\n",
    "   \"修改传入的列表\"\n",
    "   mylist.append([1,2,3,4])\n",
    "   print (\"函数内取值: \", mylist)\n",
    "   return\n",
    " \n",
    "# 调用changeme函数\n",
    "mylist = [10,20,30]\n",
    "changeme( mylist )\n",
    "print (\"函数外取值: \", mylist)"
   ]
  },
  {
   "cell_type": "markdown",
   "metadata": {},
   "source": [
    "<div class=\"alert alert-block alert-danger\"> <b>警告:</b> 函数的参数请尽量不要使用可变数据类型，否则可能会产生难以理解的 BUG。 </div>\n",
    "\n",
    "具体请看以下的例子"
   ]
  },
  {
   "cell_type": "code",
   "execution_count": 42,
   "metadata": {},
   "outputs": [],
   "source": [
    "def add_end(L=[]):\n",
    "    '''在传入的列表末尾添加一个 END'''\n",
    "    L.append('END')\n",
    "    return L"
   ]
  },
  {
   "cell_type": "code",
   "execution_count": 41,
   "metadata": {},
   "outputs": [
    {
     "data": {
      "text/plain": [
       "[1, 2, 3, 'END']"
      ]
     },
     "execution_count": 41,
     "metadata": {},
     "output_type": "execute_result"
    }
   ],
   "source": [
    "add_end([1, 2, 3]) # 正常调用"
   ]
  },
  {
   "cell_type": "code",
   "execution_count": 51,
   "metadata": {},
   "outputs": [
    {
     "data": {
      "text/plain": [
       "['END', 'END', 'END', 'END', 'END', 'END']"
      ]
     },
     "execution_count": 51,
     "metadata": {},
     "output_type": "execute_result"
    }
   ],
   "source": [
    "add_end() # 反复调用，会一直在空列表后添加 `END`"
   ]
  },
  {
   "cell_type": "markdown",
   "metadata": {},
   "source": [
    "为什么会出现这种情况？\n",
    "\n",
    "原因是 Python 函数在定义的时候，默认参数 `L` 的值就被计算出来了，是 `[]` ，即默认参数 `L` 指向对象 `[]`。每次调用该函数，如果改变了 `L` 的内容，则下次调用时，默认参数的内容就变了，不再是定义函数时使用的 `[]`。\n",
    "\n",
    "即第一次运行 `add_end()` 后，`L = ['END']` 就改变了原先 `L=[]` 的内容，第二次运行的结果就会变成 `L = ['END','END']`。\n",
    "\n",
    "为什么要设计字符串、数字、`None` 这样的不变对象呢？因为不变对象一旦创建，对象内部的数据就不能修改，这样就减少了由于修改数据导致的错误。此外，由于对象不变，在多任务环境下同时读取对象就不会出现奇怪的 BUG.\n",
    "\n",
    "要修改上面的例子，我们可以使用 `None` 这个不变对象来实现，如下"
   ]
  },
  {
   "cell_type": "code",
   "execution_count": 54,
   "metadata": {},
   "outputs": [],
   "source": [
    "def add_end(L=None):\n",
    "    if L is None:\n",
    "        L = []\n",
    "    L.append('END')\n",
    "    return L"
   ]
  },
  {
   "cell_type": "code",
   "execution_count": 58,
   "metadata": {},
   "outputs": [
    {
     "data": {
      "text/plain": [
       "['END']"
      ]
     },
     "execution_count": 58,
     "metadata": {},
     "output_type": "execute_result"
    }
   ],
   "source": [
    "add_end() # 不管运行多少次，结果都不变。"
   ]
  },
  {
   "cell_type": "markdown",
   "metadata": {},
   "source": [
    "## 4.3 局部和全局作用域\n",
    "\n",
    "- 在被调用函数内赋值的变元和变量，处于该函数的局部作用域。处于局部作用域的变量，称为局部变量。\n",
    "- 在所有函数之外的变量，属于全局作用域。处于全局作用域的变量，称为全局变量。\n",
    "\n",
    "变量只可能是局部或者全局二者之一。可以将作用域看成是变量的容器，当作用域被销毁时，所有保存在该作用域内的变量的值就被丢弃了。作用域很重要，理由如下：\n",
    "- 全局作用域中的代码不能使用任何局部变量；\n",
    "- 但是，局部作用域可以访问全局变量；\n",
    "- 一个函数的局部作用域中的代码，不能使用其他局部作用域中的变量；\n",
    "- 如果在不同的作用域中，可以使用相同的名字命名不同的变量。如可以有一个名为 `spam` 的局部变量，和一个名为 `spam` 的全局作用量。"
   ]
  },
  {
   "cell_type": "markdown",
   "metadata": {},
   "source": [
    "### 4.3.1 局部和全局变量的关系\n",
    "<div class=\"alert alert-block alert-success\"> 局部变量不能在全局作用域内使用\n",
    "</div>\n",
    "\n",
    "下述程序在运行时会报错，这是因为 `eggs` 只属于函数 `spam()` 调用所创建的局部作用域。在程序执行从 `spam` 返回后，该局部作用域就会被销毁，不再有名为 `eggs` 的变量。"
   ]
  },
  {
   "cell_type": "code",
   "execution_count": 76,
   "metadata": {},
   "outputs": [
    {
     "ename": "NameError",
     "evalue": "name 'eggs' is not defined",
     "output_type": "error",
     "traceback": [
      "\u001b[1;31m---------------------------------------------------------------------------\u001b[0m",
      "\u001b[1;31mNameError\u001b[0m                                 Traceback (most recent call last)",
      "Cell \u001b[1;32mIn[76], line 5\u001b[0m\n\u001b[0;32m      3\u001b[0m     eggs \u001b[38;5;241m=\u001b[39m \u001b[38;5;241m31337\u001b[39m\n\u001b[0;32m      4\u001b[0m spam()\n\u001b[1;32m----> 5\u001b[0m \u001b[38;5;28mprint\u001b[39m(eggs)\n",
      "\u001b[1;31mNameError\u001b[0m: name 'eggs' is not defined"
     ]
    }
   ],
   "source": [
    "def spam():\n",
    "    eggs = 31337\n",
    "spam()\n",
    "print(eggs)"
   ]
  },
  {
   "cell_type": "markdown",
   "metadata": {},
   "source": [
    "<div class=\"alert alert-block alert-success\">\n",
    "局部作用域不能使用其他局部作用域内的变量\n",
    "</div>\n",
    "\n",
    "一个函数被调用时就创建了一个新的局部作用域，这包括一个函数被另一个函数调用时的情况。如下述代码所示，可以看见 `spam()` 函数调用时打印的仍是它创建的局部作用域里的 `eggs` 值，而非内部调用的另一个函数 `bacon()` 内 `eggs` 值"
   ]
  },
  {
   "cell_type": "code",
   "execution_count": 82,
   "metadata": {},
   "outputs": [
    {
     "name": "stdout",
     "output_type": "stream",
     "text": [
      "99\n"
     ]
    }
   ],
   "source": [
    "def spam():\n",
    "    eggs = 99\n",
    "    bacon()\n",
    "    print(eggs)\n",
    "\n",
    "def bacon():\n",
    "    ham = 101\n",
    "    eggs = 0\n",
    "\n",
    "spam()"
   ]
  },
  {
   "cell_type": "markdown",
   "metadata": {},
   "source": [
    "<div class=\"alert alert-block alert-success\">\n",
    "全局变量可以在局部作用域中获取\n",
    "</div>\n",
    "\n",
    "见以下代码，因为在 `spam()` 函数中，没有变元名为 `eggs`，也没有代码为`eggs` 复制，所以当 `spam()` 中使用 `eggs` 时，Python 认为它是对全局变量 `eggs` 的引用，所以下述代码会打印出 42。"
   ]
  },
  {
   "cell_type": "code",
   "execution_count": 81,
   "metadata": {},
   "outputs": [
    {
     "name": "stdout",
     "output_type": "stream",
     "text": [
      "42\n",
      "42\n"
     ]
    }
   ],
   "source": [
    "def spam():\n",
    "    print(eggs)\n",
    "eggs = 42\n",
    "spam()\n",
    "print(eggs)"
   ]
  },
  {
   "cell_type": "markdown",
   "metadata": {},
   "source": [
    "<div class=\"alert alert-block alert-success\">\n",
    "局部变量和全局变量名称可以相同\n",
    "</div>\n",
    "\n",
    "要想生活简单，就要避免局部变量和全局变量或者其他局部变量同名。但在技术上，在 Python 中让局部变量和全局变量同名是完全合法的，但这只会徒增烦恼。请见以下实例："
   ]
  },
  {
   "cell_type": "code",
   "execution_count": 2,
   "metadata": {},
   "outputs": [
    {
     "name": "stdout",
     "output_type": "stream",
     "text": [
      "bacon local\n",
      "spam local\n",
      "bacon local\n",
      "global\n"
     ]
    }
   ],
   "source": [
    "def spam():\n",
    "    eggs = 'spam local'\n",
    "    print(eggs)\n",
    "\n",
    "def bacon():\n",
    "    eggs = 'bacon local'\n",
    "    print(eggs) \n",
    "    spam()\n",
    "    print(eggs)\n",
    "\n",
    "eggs = 'global'\n",
    "bacon()\n",
    "print(eggs)"
   ]
  },
  {
   "cell_type": "markdown",
   "metadata": {},
   "source": [
    "在这个程序中，实际上有 3 个不同的变量，但它们都名为 `eggs`。这些变量是：\n",
    "1. 存在于 `spam()`被调用时的局部作用域的名为 `eggs` 的变量；\n",
    "2. 存在于 `bacon()` 被调用时的局部作用域的名为 `eggs` 的变量；\n",
    "3. 存在于全局作用域的名为 `eggs` 的变量。\n",
    "\n",
    "因为这 3 个独立的变量都有相同的名字，追踪某一个时刻使用的是哪个变量，\n",
    "可能比较麻烦。这就是应该避免在不同作用域内使用相同变量名的原因。"
   ]
  },
  {
   "cell_type": "markdown",
   "metadata": {},
   "source": [
    "### 4.3.2 global 语句\n",
    "\n",
    "如果需要在一个函数内修改全局变量就需要使用到 `global` 语句。\n",
    "\n",
    "如果在函数的顶部有 `global eggs` 这样的代码，它就告诉 Python，“在这个函数中，`eggs` 指的是全局变量，所以不要用这个名字创建一个局部变量。”"
   ]
  },
  {
   "cell_type": "code",
   "execution_count": 3,
   "metadata": {},
   "outputs": [
    {
     "name": "stdout",
     "output_type": "stream",
     "text": [
      "spam\n"
     ]
    }
   ],
   "source": [
    "def spam():\n",
    "    global eggs\n",
    "    eggs = 'spam'\n",
    "\n",
    "eggs = 'global'\n",
    "spam()\n",
    "print(eggs)"
   ]
  },
  {
   "cell_type": "markdown",
   "metadata": {},
   "source": [
    "一个函数中，一个变量要么总是全局变量，要么总是局部变量。函数中的代码\n",
    "没有办法先使用名为 `eggs` 的局部变量，稍后又在同一个函数中使用全局 `eggs` 变量。\n",
    "\n",
    "如果想在一个函数中修改全局变量中存储的值，就必须对该变量使用 global\n",
    "语句。\n",
    "\n",
    "在一个函数中，如果试图在局部变量赋值之前就使用它，像下面的程序这样，Python\n",
    "就会报错。"
   ]
  },
  {
   "cell_type": "code",
   "execution_count": 7,
   "metadata": {},
   "outputs": [
    {
     "ename": "UnboundLocalError",
     "evalue": "cannot access local variable 'eggs' where it is not associated with a value",
     "output_type": "error",
     "traceback": [
      "\u001b[1;31m---------------------------------------------------------------------------\u001b[0m",
      "\u001b[1;31mUnboundLocalError\u001b[0m                         Traceback (most recent call last)",
      "Cell \u001b[1;32mIn[7], line 6\u001b[0m\n\u001b[0;32m      3\u001b[0m     eggs \u001b[38;5;241m=\u001b[39m \u001b[38;5;124m'\u001b[39m\u001b[38;5;124mspam local\u001b[39m\u001b[38;5;124m'\u001b[39m\n\u001b[0;32m      5\u001b[0m eggs \u001b[38;5;241m=\u001b[39m \u001b[38;5;124m'\u001b[39m\u001b[38;5;124mglobal\u001b[39m\u001b[38;5;124m'\u001b[39m\n\u001b[1;32m----> 6\u001b[0m spam()\n",
      "Cell \u001b[1;32mIn[7], line 2\u001b[0m, in \u001b[0;36mspam\u001b[1;34m()\u001b[0m\n\u001b[0;32m      1\u001b[0m \u001b[38;5;28;01mdef\u001b[39;00m \u001b[38;5;21mspam\u001b[39m():\n\u001b[1;32m----> 2\u001b[0m     \u001b[38;5;28mprint\u001b[39m(eggs) \u001b[38;5;66;03m# ERROR!\u001b[39;00m\n\u001b[0;32m      3\u001b[0m     eggs \u001b[38;5;241m=\u001b[39m \u001b[38;5;124m'\u001b[39m\u001b[38;5;124mspam local\u001b[39m\u001b[38;5;124m'\u001b[39m\n",
      "\u001b[1;31mUnboundLocalError\u001b[0m: cannot access local variable 'eggs' where it is not associated with a value"
     ]
    }
   ],
   "source": [
    "def spam():\n",
    "    print(eggs) # ERROR!\n",
    "    eggs = 'spam local'\n",
    "\n",
    "eggs = 'global'\n",
    "spam()"
   ]
  },
  {
   "cell_type": "markdown",
   "metadata": {},
   "source": [
    "发生这个错误是因为，Python 看到 `spam()` 函数中有针对 `eggs`的赋值语句，会认为它是局部变量。但是 `print(eggs)` 执行在 `eggs` 赋值之前，局部变量并不存在。Python 不会退回到使用全局 `eggs` 变量。"
   ]
  },
  {
   "cell_type": "markdown",
   "metadata": {},
   "source": [
    "在实际开发中，我们应该尽量减少对全局变量的使用，因为全局变量的作用域和影响过于广泛，可能会发生意料之外的修改和使用，除此之外全局变量比局部变量拥有更长的生命周期，可能导致对象占用的内存长时间无法被垃圾回收。\n",
    "\n",
    "事实上，减少对全局变量的使用，也是降低代码之间耦合度的一个重要举措，同时也是对[迪米特法则](https://en.wikipedia.org/wiki/Law_of_Demeter) (Law of Demeter ) 的践行。减少全局变量的使用就意味着我们应该尽量让变量的作用域在函数的内部，但是如果我们希望将一个局部变量的生命周期延长，使其在定义它的函数调用结束后依然可以使用它的值，这时候就需要使用闭包，这个我们有机会可以在后续的内容中进行讲解。"
   ]
  },
  {
   "cell_type": "markdown",
   "metadata": {},
   "source": [
    "## 4.4 匿名函数\n",
    "在 Python 中可以使用 `lambda` 来创建小巧的匿名函数。\n",
    "\n",
    "所谓匿名，就是指我们不再使用 `def` 语句这样标准的形式来定义一个函数。`lambda` 只是一个表达式，函数体比 `def` 简单很多。它的基本语法格式如下：\n",
    "\n",
    "```python\n",
    "lambda [arg1 [,arg2,....,arg3]]:expression\n",
    "```"
   ]
  },
  {
   "cell_type": "code",
   "execution_count": 68,
   "metadata": {},
   "outputs": [
    {
     "name": "stdout",
     "output_type": "stream",
     "text": [
      "Hello, world!\n"
     ]
    }
   ],
   "source": [
    "#  没有参数\n",
    "f = lambda: \"Hello, world!\"\n",
    "print(f())"
   ]
  },
  {
   "cell_type": "code",
   "execution_count": 67,
   "metadata": {},
   "outputs": [
    {
     "name": "stdout",
     "output_type": "stream",
     "text": [
      "15\n"
     ]
    }
   ],
   "source": [
    "# 将参数 + 10\n",
    "plus_ten = lambda a : a + 10\n",
    "\n",
    "print(plus_ten(5))"
   ]
  },
  {
   "cell_type": "code",
   "execution_count": 63,
   "metadata": {},
   "outputs": [
    {
     "name": "stdout",
     "output_type": "stream",
     "text": [
      "相加后的值为 :  30\n",
      "相加后的值为 :  40\n"
     ]
    }
   ],
   "source": [
    "# 将两个参数相加\n",
    "sum = lambda arg1, arg2: arg1 + arg2\n",
    " \n",
    "print (\"相加后的值为 : \", sum( 10, 20 ))\n",
    "print (\"相加后的值为 : \", sum( 20, 20 ))"
   ]
  },
  {
   "cell_type": "markdown",
   "metadata": {},
   "source": [
    "当然匿名函数也可以封装在一个函数内，这样可以使用同样的代码来创建多个匿名函数。"
   ]
  },
  {
   "cell_type": "code",
   "execution_count": 70,
   "metadata": {},
   "outputs": [
    {
     "name": "stdout",
     "output_type": "stream",
     "text": [
      "22\n",
      "33\n"
     ]
    }
   ],
   "source": [
    "def myfunc(n):\n",
    "  return lambda a : a * n\n",
    " \n",
    "mydoubler = myfunc(2) # 得到参数*2的匿名函数\n",
    "mytripler = myfunc(3) # 得到参数*3的匿名函数\n",
    " \n",
    "print(mydoubler(11))\n",
    "print(mytripler(11))"
   ]
  },
  {
   "cell_type": "markdown",
   "metadata": {},
   "source": [
    "## 4.5 递归函数\n",
    "在函数内部，可以调用其他函数。如果一个函数在内部调用自身本身，那这个函数就是一个递归函数。\n",
    "\n",
    "递归函数的优点是定义简单，逻辑清晰。理论上，所有的递归函数都可以写成循环的方式，但循环的逻辑不如递归清晰。"
   ]
  },
  {
   "cell_type": "code",
   "execution_count": 71,
   "metadata": {},
   "outputs": [],
   "source": [
    "# 阶乘，n! = n * (n-1) * ... *1\n",
    "def fact(n):\n",
    "    if n ==1:\n",
    "        return 1\n",
    "    return n * fact(n-1)"
   ]
  },
  {
   "cell_type": "code",
   "execution_count": 74,
   "metadata": {},
   "outputs": [
    {
     "name": "stdout",
     "output_type": "stream",
     "text": [
      "1\n",
      "120\n"
     ]
    }
   ],
   "source": [
    "print(fact(1)) # 1! = 1\n",
    "print(fact(5)) # 5! = 120"
   ]
  },
  {
   "cell_type": "markdown",
   "metadata": {},
   "source": [
    "## 4.6 补充：异常处理\n",
    "在 Python 程序中遇到错误，或者“异常”，意味着整个程序崩溃。显然我们不希望这发生在我们写的代码中，我们更希望程序能检测错误，处理它们然后继续运行。\n",
    "\n",
    "例如，考虑下面的程序，它会出现“除数为零”的错误："
   ]
  },
  {
   "cell_type": "code",
   "execution_count": 8,
   "metadata": {},
   "outputs": [
    {
     "name": "stdout",
     "output_type": "stream",
     "text": [
      "21.0\n",
      "3.5\n"
     ]
    },
    {
     "ename": "ZeroDivisionError",
     "evalue": "division by zero",
     "output_type": "error",
     "traceback": [
      "\u001b[1;31m---------------------------------------------------------------------------\u001b[0m",
      "\u001b[1;31mZeroDivisionError\u001b[0m                         Traceback (most recent call last)",
      "Cell \u001b[1;32mIn[8], line 5\u001b[0m\n\u001b[0;32m      3\u001b[0m \u001b[38;5;28mprint\u001b[39m(spam(\u001b[38;5;241m2\u001b[39m))\n\u001b[0;32m      4\u001b[0m \u001b[38;5;28mprint\u001b[39m(spam(\u001b[38;5;241m12\u001b[39m))\n\u001b[1;32m----> 5\u001b[0m \u001b[38;5;28mprint\u001b[39m(spam(\u001b[38;5;241m0\u001b[39m))\n\u001b[0;32m      6\u001b[0m \u001b[38;5;28mprint\u001b[39m(spam(\u001b[38;5;241m1\u001b[39m))\n",
      "Cell \u001b[1;32mIn[8], line 2\u001b[0m, in \u001b[0;36mspam\u001b[1;34m(divideBy)\u001b[0m\n\u001b[0;32m      1\u001b[0m \u001b[38;5;28;01mdef\u001b[39;00m \u001b[38;5;21mspam\u001b[39m(divideBy):\n\u001b[1;32m----> 2\u001b[0m     \u001b[38;5;28;01mreturn\u001b[39;00m \u001b[38;5;241m42\u001b[39m \u001b[38;5;241m/\u001b[39m divideBy\n",
      "\u001b[1;31mZeroDivisionError\u001b[0m: division by zero"
     ]
    }
   ],
   "source": [
    "def spam(divideBy):\n",
    "    return 42 / divideBy\n",
    "print(spam(2))\n",
    "print(spam(12))\n",
    "print(spam(0))\n",
    "print(spam(1))"
   ]
  },
  {
   "cell_type": "markdown",
   "metadata": {},
   "source": [
    "当试图将一个数除以零时，就会发生错误。根据错误信息，我们知道 `spam()` 中的 `return()` 语句导致了一个错误。\n",
    "\n",
    "错误可以由 `try` 和 `except` 语句处理。那些可能出错的语句被放在 `try` 子句中，如果错误发生，程序执行就转到接下来的 `except` 子句开始处。"
   ]
  },
  {
   "cell_type": "code",
   "execution_count": 11,
   "metadata": {},
   "outputs": [
    {
     "name": "stdout",
     "output_type": "stream",
     "text": [
      "21.0\n",
      "3.5\n",
      "Error: Invalid argument.\n",
      "None\n",
      "42.0\n"
     ]
    }
   ],
   "source": [
    "def spam(divideBy):\n",
    "    try:\n",
    "        return 42 / divideBy\n",
    "    except ZeroDivisionError:\n",
    "        print('Error: Invalid argument.')\n",
    "        \n",
    "print(spam(2))\n",
    "print(spam(12))\n",
    "print(spam(0))\n",
    "print(spam(1))"
   ]
  },
  {
   "cell_type": "markdown",
   "metadata": {},
   "source": [
    "## 4.7 References\n",
    "- [1] [Python 官方手册（中文）](https://docs.python.org/zh-cn/3/)\n",
    "- [2] [Python 官方手册（英文）](https://docs.python.org/3/)\n",
    "- [3] [Python 3 教程 - 菜鸟教程](https://www.runoob.com/python3/python3-tutorial.html)\n",
    "- [4] [廖雪峰的 Python 教程](https://www.liaoxuefeng.com/wiki/1016959663602400)\n",
    "- [5] [Python - 100天从新手到大师](https://github.com/jackfrued/Python-100-Days/tree/master)\n",
    "- [6] Eric Matthes.《Python编程 - 从入门到实践（第二版）》（袁国忠译）. 人民邮电出版社\n",
    "- [7] Al Sweigart.《Python编程 - 快速上手 -- 让繁琐工作自动化》（王海鹏译）. 人民邮电出版社"
   ]
  }
 ],
 "metadata": {
  "kernelspec": {
   "display_name": "Python 3 (ipykernel)",
   "language": "python",
   "name": "python3"
  },
  "language_info": {
   "codemirror_mode": {
    "name": "ipython",
    "version": 3
   },
   "file_extension": ".py",
   "mimetype": "text/x-python",
   "name": "python",
   "nbconvert_exporter": "python",
   "pygments_lexer": "ipython3",
   "version": "3.11.7"
  },
  "toc": {
   "base_numbering": 1,
   "nav_menu": {
    "height": "227px",
    "width": "160px"
   },
   "number_sections": false,
   "sideBar": true,
   "skip_h1_title": false,
   "title_cell": "Table of Contents",
   "title_sidebar": "Contents",
   "toc_cell": false,
   "toc_position": {
    "height": "calc(100% - 180px)",
    "left": "10px",
    "top": "150px",
    "width": "300px"
   },
   "toc_section_display": true,
   "toc_window_display": false
  },
  "varInspector": {
   "cols": {
    "lenName": 16,
    "lenType": 16,
    "lenVar": 40
   },
   "kernels_config": {
    "python": {
     "delete_cmd_postfix": "",
     "delete_cmd_prefix": "del ",
     "library": "var_list.py",
     "varRefreshCmd": "print(var_dic_list())"
    },
    "r": {
     "delete_cmd_postfix": ") ",
     "delete_cmd_prefix": "rm(",
     "library": "var_list.r",
     "varRefreshCmd": "cat(var_dic_list()) "
    }
   },
   "types_to_exclude": [
    "module",
    "function",
    "builtin_function_or_method",
    "instance",
    "_Feature"
   ],
   "window_display": false
  }
 },
 "nbformat": 4,
 "nbformat_minor": 2
}
